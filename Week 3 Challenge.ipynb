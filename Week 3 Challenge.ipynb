{
 "cells": [
  {
   "cell_type": "markdown",
   "metadata": {},
   "source": [
    "# Africa Economic, Banking and Systemic Crises Dataset Data Analysis"
   ]
  },
  {
   "cell_type": "markdown",
   "metadata": {},
   "source": [
    "## Dataset Context\n",
    "### This dataset is a derivative of Reinhart et. al's Global Financial Stability dataset which can be found online at:https://www.hbs.edu/behavioral-finance-and-financial-stability/data/Pages/global.aspx\n",
    "### The dataset will be valuable to those who seek to understand the dynamics of financial stability within the African context.\n",
    "\n",
    "## Dataset Content:\n",
    "### The dataset specifically focuses on the Banking, Debt, Financial, Inflation and Systemic Crises that occurred, from 1860 to 2014, in 13 African countries, including: Algeria, Angola, Central African Republic, Ivory Coast, Egypt, Kenya, Mauritius, Morocco, Nigeria, South Africa, Tunisia, Zambia and Zimbabwe."
   ]
  },
  {
   "cell_type": "code",
   "execution_count": 2,
   "metadata": {},
   "outputs": [],
   "source": [
    "import numpy as np \n",
    "import pandas as pd \n",
    "import matplotlib.pyplot as plt\n",
    "import seaborn as sns\n",
    "%matplotlib inline"
   ]
  },
  {
   "cell_type": "code",
   "execution_count": 4,
   "metadata": {
    "tags": []
   },
   "outputs": [
    {
     "output_type": "stream",
     "name": "stdout",
     "text": "Dataset rows:  1059\nDataset columns:  14\ncolumn names:\n Index(['case', 'cc3', 'country', 'year', 'systemic_crisis', 'exch_usd',\n       'domestic_debt_in_default', 'sovereign_external_debt_default',\n       'gdp_weighted_default', 'inflation_annual_cpi', 'independence',\n       'currency_crises', 'inflation_crises', 'banking_crisis'],\n      dtype='object')\n"
    }
   ],
   "source": [
    "african_crises=pd.read_csv('african_crises.csv')\n",
    "print('Dataset rows: ',african_crises.shape[0])\n",
    "print('Dataset columns: ',african_crises.shape[1])\n",
    "print('column names:\\n',african_crises.columns)"
   ]
  },
  {
   "cell_type": "markdown",
   "metadata": {},
   "source": [
    "## Dataset Description\n",
    "### case: A number which denotes a specific country\n",
    "### cc3: A three letter country code\n",
    "### country: The name of the country\n",
    "### year: The year of the observation\n",
    "### systemic_crisis: \"0\" means that no systemic crisis occurred in the year and \"1\" means that a systemic crisis occurred in the year.\n",
    "### exch_usd: The exchange rate of the country vis-a-vis the USD\n",
    "### domestic_debt_in_default: \"0\" means that no sovereign domestic debt default occurred in the year and \"1\" means that a sovereign domestic debt default occurred in the year\n",
    "### sovereign_external_debt_default: \"0\" means that no sovereign external debt default occurred in the year and \"1\" means that a sovereign external debt default occurred in the year\n",
    "### gdp_weighted_default: The total debt in default vis-a-vis the GDP\n",
    "### inflation_annual_cpi: The annual CPI Inflation rate\n",
    "### independence: \"0\" means \"no independence\" and \"1\" means \"independence\"\n",
    "### currency_crises: \"0\" means that no currency crisis occurred in the year and \"1\" means that a currency crisis occurred in the year\n",
    "### inflation_crises: \"0\" means that no inflation crisis occurred in the year and \"1\" means that an inflation crisis occurred in the year\n",
    "### banking_crisis: \"no_crisis\" means that no banking crisis occurred in the year and \"crisis\" means that a banking crisis occurred in the year"
   ]
  },
  {
   "cell_type": "code",
   "execution_count": 5,
   "metadata": {
    "tags": []
   },
   "outputs": [
    {
     "output_type": "stream",
     "name": "stdout",
     "text": "Data type of each column:\n\ncase                                 int64\ncc3                                 object\ncountry                             object\nyear                                 int64\nsystemic_crisis                      int64\nexch_usd                           float64\ndomestic_debt_in_default             int64\nsovereign_external_debt_default      int64\ngdp_weighted_default               float64\ninflation_annual_cpi               float64\nindependence                         int64\ncurrency_crises                      int64\ninflation_crises                     int64\nbanking_crisis                      object\ndtype: object\n"
    }
   ],
   "source": [
    "print('Data type of each column:\\n')\n",
    "print(african_crises.dtypes)"
   ]
  },
  {
   "cell_type": "code",
   "execution_count": null,
   "metadata": {},
   "outputs": [],
   "source": []
  }
 ],
 "metadata": {
  "language_info": {
   "codemirror_mode": {
    "name": "ipython",
    "version": 3
   },
   "file_extension": ".py",
   "mimetype": "text/x-python",
   "name": "python",
   "nbconvert_exporter": "python",
   "pygments_lexer": "ipython3",
   "version": "3.8.3-final"
  },
  "orig_nbformat": 2,
  "kernelspec": {
   "name": "python38332bitea13aa9159cf4d978fcce632b8e75150",
   "display_name": "Python 3.8.3 32-bit"
  }
 },
 "nbformat": 4,
 "nbformat_minor": 2
}