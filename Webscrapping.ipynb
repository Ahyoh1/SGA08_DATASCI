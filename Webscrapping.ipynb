{
 "cells": [
  {
   "cell_type": "code",
   "execution_count": 196,
   "metadata": {},
   "outputs": [],
   "source": [
    "import requests\n",
    "from bs4 import BeautifulSoup\n",
    "import pandas as pd"
   ]
  },
  {
   "cell_type": "code",
   "execution_count": 238,
   "metadata": {},
   "outputs": [],
   "source": [
    "import numpy as np"
   ]
  },
  {
   "cell_type": "code",
   "execution_count": 26,
   "metadata": {},
   "outputs": [],
   "source": [
    "base_url='https://www.propertypro.ng/property-for-rent?search=&auto=&type=&bedroom=&max_price='\n",
    "headers={'user-agent': 'Mozilla/5.0 (Windows NT 10.0; Win64; x64) AppleWebKit/537.36 (KHTML, like Gecko) Chrome/83.0.4103.116 Safari/537.36'}"
   ]
  },
  {
   "cell_type": "code",
   "execution_count": 27,
   "metadata": {},
   "outputs": [],
   "source": [
    "r=requests.get(base_url, headers=headers)"
   ]
  },
  {
   "cell_type": "code",
   "execution_count": 28,
   "metadata": {},
   "outputs": [
    {
     "output_type": "execute_result",
     "data": {
      "text/plain": "200"
     },
     "metadata": {},
     "execution_count": 28
    }
   ],
   "source": [
    "r.status_code"
   ]
  },
  {
   "cell_type": "code",
   "execution_count": 29,
   "metadata": {},
   "outputs": [],
   "source": [
    "soup=BeautifulSoup(r.text, 'html.parser')"
   ]
  },
  {
   "cell_type": "code",
   "execution_count": 30,
   "metadata": {
    "tags": [
     "outputPrepend"
    ]
   },
   "outputs": [
    {
     "output_type": "stream",
     "name": "stdout",
     "text": "</div>\n           <div class=\"col-lg-4 col-md-4 col-sm-4\">\n            <ul>\n             <li>\n              <a href=\"/property-for-short-let/in/lagos\">\n               Short let in Lagos\n              </a>\n             </li>\n             <li>\n              <a href=\"/property-for-short-let/in/lagos/ikeja\">\n               Short let in Ikeja\n              </a>\n             </li>\n             <li>\n              <a href=\"/property-for-short-let/in/lagos/lekki\">\n               Short let in Lekki\n              </a>\n             </li>\n             <li>\n              <a href=\"/property-for-rent/commercial-property/office-space/in/lagos\">\n               Office space for rent in Lagos\n              </a>\n             </li>\n             <li>\n              <a href=\"/property-for-rent/commercial-property/office-space/in/abuja\">\n               Office space for rent in Abuja\n              </a>\n             </li>\n            </ul>\n           </div>\n          </div>\n         </div>\n        </div>\n       </div>\n      </div>\n     </div>\n    </div>\n   </div>\n  </section>\n  <div class=\"container\">\n   <div class=\"row\">\n    <div class=\"col-12 text-center\">\n    </div>\n   </div>\n  </div>\n  <div class=\"modal\" id=\"request-prop-modal\" role=\"dialog\">\n   <div class=\"modal-dialog\" role=\"document\">\n    <div class=\"modal-content\">\n     <div class=\"modal-header\">\n      <button aria-label=\"Close\" class=\"close alert-close\" data-dismiss=\"modal\" type=\"button\">\n       <span aria-hidden=\"true\">\n        ×\n       </span>\n      </button>\n     </div>\n     <div class=\"modal-body\">\n      <div class=\"mockup-cont\">\n      </div>\n      <img alt=\"\" class=\"magnify\" src=\"/assets/app/images/62959a08f548a31a5e6d8577fffa38c7-notify-scope.svg\"/>\n      <h4 class=\"title\">\n       Can’t find what you are looking for?\n      </h4>\n      <a class=\"btn primary btn-block\" href=\"/post-request\">\n       Clck To Post Your Request\n      </a>\n     </div>\n    </div>\n   </div>\n  </div>\n  <div class=\"modal\" id=\"newsletter-modal\" role=\"dialog\">\n   <div class=\"modal-dialog\" role=\"document\">\n    <div class=\"modal-content\">\n     <div class=\"modal-header\">\n      <button aria-label=\"Close\" class=\"close alert-close\" data-dismiss=\"modal\" type=\"button\">\n       <span aria-hidden=\"true\">\n        ×\n       </span>\n      </button>\n     </div>\n     <div class=\"modal-body\">\n      <form action=\"/notify\" class=\"envelope-cont text-center\" method=\"POST\">\n       <img alt=\"\" src=\"/assets/app/images/68c3afb93f4e1d953ae1a1176e9265fd-subscribe_envelope.svg\"/>\n       <p>\n        Receive alerts when we have new properties available for:\n       </p>\n       <h4 class=\"title\">\n        Property for rent\n       </h4>\n       <input class=\"form-control\" name=\"name\" placeholder=\"Name\" required=\"required\" type=\"text\" value=\"\"/>\n       <input class=\"form-control\" name=\"email\" placeholder=\"Email Address\" required=\"required\" type=\"email\" value=\"\"/>\n       <input name=\"mode\" type=\"hidden\" value=\"rent\"/>\n       <input name=\"search\" type=\"hidden\" value=\"\"/>\n       <input name=\"state\" type=\"hidden\" value=\"\"/>\n       <input name=\"axis\" type=\"hidden\" value=\"\"/>\n       <input name=\"area\" type=\"hidden\" value=\"\"/>\n       <input name=\"type\" type=\"hidden\" value=\"\"/>\n       <input name=\"beds\" type=\"hidden\" value=\"\"/>\n       <input name=\"min_price\" type=\"hidden\" value=\"\"/>\n       <input name=\"max_price\" type=\"hidden\" value=\"\"/>\n       <button class=\"btn secondry btn-block alert2-btn\" type=\"button\">\n        Notify me\n       </button>\n      </form>\n     </div>\n    </div>\n   </div>\n  </div>\n  <footer>\n   <div class=\"container\">\n    <div class=\"row\">\n     <div class=\"col-lg-6 col-md-12 col-sm-12\">\n      <ul class=\"lnks text-lg-left text-md-center text-sm-center\">\n       <li>\n        <a href=\"http://tpg.ng\">\n         ToLet Property Group\n        </a>\n       </li>\n       <li>\n        <a href=\"https://www.propertypro.ng/blog\">\n         Blog\n        </a>\n       </li>\n       <li>\n        <a href=\"/about\">\n         About Us\n        </a>\n       </li>\n       <li>\n        <a href=\"/contact\">\n         Contact Us\n        </a>\n       </li>\n       <li>\n        <a href=\"/terms\">\n         Terms and Conditions\n        </a>\n       </li>\n       <li>\n        <a href=\"/agents\">\n         Agents\n        </a>\n       </li>\n       <li>\n        <a href=\"/sitemap.html\">\n         SiteMap\n        </a>\n       </li>\n       <li>\n        <a href=\"/advertise-with-us\">\n         Advertise With Us\n        </a>\n       </li>\n       <li>\n        <a href=\"https://www.realtornigeria.com\">\n         RealtorNigeria\n        </a>\n       </li>\n      </ul>\n     </div>\n     <div class=\"col-lg-1 offset-lg-5 col-md-12 offset-md-0 col-sm-12 text-right footer-logo\">\n      <div class=\"loader\">\n       <div class=\"flipper\">\n        <div class=\"front\">\n         <a class=\"spining-logo\" href=\"/\">\n          <img alt=\"\" class=\"img-responsive\" src=\"/assets/app/images/2d59d3559159cdf645dab87db0a55c91-footer-logo.svg\"/>\n         </a>\n        </div>\n        <div class=\"back\">\n         <a class=\"spining-logo\" href=\"/\">\n          <img alt=\"\" class=\"img-responsive\" src=\"/assets/app/images/2d59d3559159cdf645dab87db0a55c91-footer-logo.svg\"/>\n         </a>\n        </div>\n       </div>\n      </div>\n     </div>\n     <div class=\"col-lg-12 col-md-12 col-sm-12 main\">\n      <span class=\"copy\">\n       © copyright 2019 PropertyPro.ng all rights reserved\n      </span>\n      <ul class=\"float-right socials\">\n       <li>\n        <a class=\"fa fa-facebook\" href=\"https://www.facebook.com/propertyprong/\">\n        </a>\n       </li>\n       <li>\n        <a class=\"fa fa-twitter\" href=\"https://twitter.com/propertyprong\">\n        </a>\n       </li>\n       <li>\n        <a class=\"fa fa-instagram\" href=\"https://www.instagram.com/propertyprong/\">\n        </a>\n       </li>\n      </ul>\n     </div>\n    </div>\n   </div>\n  </footer>\n  <script data-cfasync=\"false\" src=\"/cdn-cgi/scripts/5c5dd728/cloudflare-static/email-decode.min.js\">\n  </script>\n  <script src=\"/assets/app/js/7a05ce80a58913d9c495bb8365682599-plugins.js\" type=\"075ac1f9205bc0bf0e5dcdf9-text/javascript\">\n  </script>\n  <script src=\"/assets/app/js/6d1954a1e611761c11175c937fe1fdc5-listings.min.js\" type=\"075ac1f9205bc0bf0e5dcdf9-text/javascript\">\n  </script>\n  <script type=\"075ac1f9205bc0bf0e5dcdf9-text/javascript\">\n   var searchState = '';\n        var searchAxis = '';\n        var searchArea = '';\n        var reqSearch = '';\n\n\n        $(document).ready(function () {\n\n            $('#to_refine_search').click(function () {\n                $('html, body').animate({scrollTop: $('#refine_search').offset().top}, 'slow');\n            });\n\n            if (searchState) {\n                var useEndpoint, guideSlug;\n                var baseEndpoint = 'https://www.propertypro.ng' + '/guide/wp-json/wp/v2/';\n                if (searchArea && searchAxis) {\n                    useEndpoint = baseEndpoint + 'areas';\n                    guideSlug = searchArea + '-' + searchAxis + '-' + searchState;\n                } else if (searchAxis) {\n                    useEndpoint = baseEndpoint + 'axes';\n                    guideSlug = searchAxis + '-' + searchState;\n                } else {\n                    if (reqSearch) {\n                        // split to know components\n                        var searchArray = reqSearch.split(',');\n                        var arrayLength = searchArray.length;\n                        if (3 == arrayLength) {\n                            // area\n                            useEndpoint = baseEndpoint + 'areas';\n                            guideSlug = slugify(searchArray[0]) + '-' + slugify(searchArray[1]) + '-' + searchState;\n                        } else if (2 == arrayLength) {\n                            // axis\n                            useEndpoint = baseEndpoint + 'axes';\n                            guideSlug = slugify(searchArray[0]) + '-' + searchState;\n                        } else {\n                            useEndpoint = baseEndpoint + 'states';\n                            guideSlug = searchState;\n                        }\n                    } else {\n                        useEndpoint = baseEndpoint + 'states';\n                        guideSlug = searchState;\n                    }\n                }\n\n                $.getJSON(useEndpoint + '?per_page=1&slug=' + encodeURIComponent(guideSlug) + '&_embed', function (data) {\n                    if(data.length) {\n                        data = data[0];\n                        var hood = {\n                            title: data.title.rendered,\n                            desc: data.content.rendered,\n                            link: data.link\n                        };\n                        var featuredMedia = data._embedded['wp:featuredmedia'];\n                        if (featuredMedia && featuredMedia.length) {\n                            if (\n                                featuredMedia[0].media_details &&\n                                featuredMedia[0].media_details.sizes &&\n                                featuredMedia[0].media_details.sizes['post-thumbnail'] &&\n                                featuredMedia[0].media_details.sizes['post-thumbnail'].source_url ) {\n                                hood.image = featuredMedia[0].media_details.sizes['post-thumbnail'].source_url;\n                            } else if (featuredMedia[0].source_url) {\n                                // use the full image\n                                hood.image = featuredMedia[0].source_url;\n                            }\n                        }\n                        var $properties = $('.property-bg');\n                        // we want to put after the 10th, else after the last\n                        if ($properties.length >= 10) {\n                            $properties.eq(9).parent().after( Handlebars.templates.neighborhood(hood) );\n                        } else if ($properties.length) {\n                            $properties.last().parent().after( Handlebars.templates.neighborhood(hood) );\n                        } else {\n                            $('.jumbotron.sorry').parent().after( Handlebars.templates.neighborhood(hood) );\n                        }\n                        if($('article.readmore').length){\n                            $('article.readmore').readmore({\n                                collapsedHeight:120\n                            });\n                        }\n//                        if ('undefined' != typeof hasResults) {\n//                            //\n//                        } else {\n//                            //\n//                        }\n                    }\n                });\n            }\n\n            function initReadmoreJS( start ) {\n                var readMores = $('p.readmore');\n                if(readMores.length > 0){\n                    readMores.slice( start ).readmore({\n                        collapsedHeight:30,\n                        moreLink: '<a href=\"#\">Read More+</a>'\n                    });\n                }\n            }\n\n            var sidebarReadmores = $('.results-sidebar-readmore');\n            if(sidebarReadmores.length > 0){\n                sidebarReadmores.readmore({\n                    collapsedHeight:175,\n                    moreLink: '<button class=\"btn btn-block btn-sidebar-readmore\" type=\"button\">Show More</button>',\n                    lessLink: '<button class=\"btn btn-block btn-sidebar-readmore\" type=\"button\">Show Less</button>'\n                });\n            }\n\n            $('a[href=\"#email-me\"]').on('click', function(event) {\n                var target = $('.alert2-form');\n                if( target.length ) {\n                    event.preventDefault();\n                    $('html, body').stop().animate({\n                        scrollTop: target.offset().top\n                    }, 1000);\n                }\n            });\n\n            $('#sort-by-dropdown').change(function () {\n                var val = $( this ).val();\n                if ( val ) {\n                    window.location.href = val\n                } else {\n                    if ( window.location.href.indexOf( 'sort=amount&order=desc' ) !== -1 ) {\n                        window.location.href = window.location.href.replace( 'sort=amount&order=desc', '' )\n                    } else if( window.location.href.indexOf( 'sort=amount&order=asc' ) !== -1 ){\n                        window.location.href = window.location.href.replace( 'sort=amount&order=asc', '' )\n                    } else if( window.location.href.indexOf( 'sort=postedOn&order=desc' ) !== -1 ){\n                        window.location.href = window.location.href.replace( 'sort=postedOn&order=desc', '' )\n                    } else if( window.location.href.indexOf( 'sort=beds&order=desc' ) !== -1 ){\n                        window.location.href = window.location.href.replace( 'sort=beds&order=desc', '' )\n                    }\n                }\n            });\n\n\n            \n\n\n            $(\".sticky-ad\").stick_in_parent();\n\n            $(\".alert-close\").click(function(e) {\n                $.get( \"/hideAlertPop\", function(data) {\n                });\n            });\n\n        });\n        function throttle(fn, wait) {\n            var time = Date.now();\n            return function() {\n                if ((time + wait - Date.now()) < 0) {\n                    fn();\n                    time = Date.now();\n                }\n            }\n        }\n\n\n        function slugify(text)\n        {\n            return text.toString().toLowerCase()\n                    .replace(/\\s+/g, '-')           // Replace spaces with -\n                    .replace(/[^\\w\\-]+/g, '')       // Remove all non-word chars\n                    .replace(/\\-\\-+/g, '-')         // Replace multiple - with single -\n                    .replace(/^-+/, '')             // Trim - from start of text\n                    .replace(/-+$/, '');            // Trim - from end of text\n        }\n\n        \n            jQuery(window).load(function() {\n                var show = true;\n                var height = 0.5 * $(document).height();\n                $(window).scroll(function(){\n                    if ($(this).scrollTop() >= height) {\n                        if(show) {\n                            jQuery('#newsletter-modal').modal({'show': true, 'backdrop': false});\n                            jQuery('#request-prop-modal').modal({'show': true, 'backdrop': false});\n                        }\n                    }\n\n                });\n                jQuery('#newsletter-modal').on('hidden.bs.modal', function (e) {\n                    show = false;\n                });\n                jQuery('#request-prop-modal').on('hidden.bs.modal', function (e) {\n                    show = false;\n                });\n            });\n  </script>\n  <script type=\"075ac1f9205bc0bf0e5dcdf9-text/javascript\">\n   $(document).ready(function() {\n\n                $.get('/areas.json', function(data){\n                    $( \".searchInput\" ).autocomplete({\n                        //minLength:2,\n                        //delay:1000,\n                        source: data,\n                        //autoFocus: true,\n                        //focus: function (event, ui) {\n                        //$(this).val(ui.item.value);\n                        //}\n                        select: function (event, ui) {\n                            $(\"#auto\").val(ui.item.value);\n                        }\n                        //,focus: function( event, ui ) { event.preventDefault(); }\n                    });\n                    //$(\".searchInput\").typeahead({ source:data, items:4, autoSelect:false });\n                },'json');\n\n                $(\".alert2-btn\").click(function(){\n                    var valid = true;\n                    var form = $(this).parents(\"form\");\n                    form.find(\"input\").each(function(){\n                        if($(this).val().length === 0 && $(this).attr(\"required\") === \"required\") {\n                            $(this).addClass('error');\n                            valid = false;\n                        } else {\n                            $(this).removeClass('error');\n                        }\n                    });\n                    if(!valid) {\n                        alert(\"Please enter your name and email address\");\n                        return;\n                    }\n                    $(\"#ajaxWait\").show();\n                    $.ajax({\n                        type: 'POST',\n                        url: form.attr(\"action\"),\n                        data: form.serialize(),\n                        success: function(data) {\n                            if(data===\"success\") {\n                                alert(\"You have successfully subscribed\");\n                            } else if(data===\"already\") {\n                                alert(\"You have already subscribed to this search\");\n                            } else {\n                                alert(data);\n                            }\n                            $(\"#ajaxWait\").hide();\n                            $('#alert-panel').slideUp();\n                        }\n                    });\n                    return false;\n                });\n\n                $(\"#nav-expo img\").click(function(e) {\n                    window.open('https://www.propertypro.ng/silverspring/?utm_source=website&utm_medium=banner&utm_campaign=silverspring_banner', '_blank', 'toolbar=yes, location=yes, status=yes, menubar=yes, scrollbars=yes');\n                });\n\n                $(\"#nav-expo .expo-img span\").click(function(e) {\n                    $.get( \"/hideExpoStrip\", function(data) {\n                    });\n                    $(\"#nav-expo\").slideUp('slow');\n                });\n\n                \n            });\n\n            function init() {\n                var imgDefer = document.getElementsByTagName('img');\n                for (var i = 0; i < imgDefer.length; i++) {\n                    if (imgDefer[i].getAttribute('data-src')) {\n                        imgDefer[i].setAttribute('src',imgDefer[i].getAttribute('data-src'));\n                    }\n                }\n            }\n\n            window.onload = init;\n\n            function  areaSpecialistPhone(name, phone) {\n                Show(name + \"'s phone number\", \"<a style='font-size: 30px; color: gray' href='tel:\"+phone+\"'>\"+phone+\"</a>\");\n            }\n\n            /*\n            $(document).ready(function() {\n                $.get(\"https://api.ipify.org?format=json\",\n                    function (data) {\n                        var ip = data.ip;\n                        $.get( \"/client_ip_address\", {ip: ip})\n                            .done(function( data ) {\n                                //alert(data);\n                            });\n                    });\n            });\n            */\n  </script>\n  <script type=\"075ac1f9205bc0bf0e5dcdf9-text/javascript\">\n   $(function() {\n\n            $(\"#home-banner\").attr(\"style\", \"background-image:url(https://toletstatic.s3-us-west-2.amazonaws.com/reservillle-5-bed-homepage-takeover.jpg);\");\n\n$(\"#banner-link\").click(function(e) {          \twindow.open('https://www.propertypro.ng/offers/?utm_source=website&utm_medium=slider&utm_campaign=reserville_banner', '_blank', 'toolbar=yes, location=yes, status=yes, menubar=yes, scrollbars=yes');\n});\n\n\n/*\n           $(\"#home-popup img\").attr(\"src\",\"https://toletstatic.s3-us-west-2.amazonaws.com/mouka_600x600.gif\");      \n\n            if($('#home-popup').length > 0) {\n                $('#home-popup').modal('show');\n            }\n\n            $(\"#home-popup img\").click(function(e) {\n                window.open('https://www.mouka.com/product/flora/?utm_source=propertypro&utm_medium=banner&utm_campaign=flora', '_blank', 'toolbar=yes, location=yes, status=yes, menubar=yes, scrollbars=yes');\n            });\n*/\n\n        });\n  </script>\n  <script data-cf-settings=\"075ac1f9205bc0bf0e5dcdf9-|49\" defer=\"\" src=\"https://ajax.cloudflare.com/cdn-cgi/scripts/7089c43e/cloudflare-static/rocket-loader.min.js\">\n  </script>\n </body>\n</html>\n"
    }
   ],
   "source": [
    "print (soup.prettify())"
   ]
  },
  {
   "cell_type": "code",
   "execution_count": 31,
   "metadata": {
    "tags": []
   },
   "outputs": [
    {
     "output_type": "stream",
     "name": "stdout",
     "text": "Property & Houses for rent  in Nigeria (33,110 listings) | PropertyPro.ng\n"
    }
   ],
   "source": [
    "print(soup.title.get_text())"
   ]
  },
  {
   "cell_type": "code",
   "execution_count": 32,
   "metadata": {},
   "outputs": [],
   "source": [
    "titles=soup.select('.pro-main-cont>a>h2')"
   ]
  },
  {
   "cell_type": "code",
   "execution_count": 33,
   "metadata": {},
   "outputs": [
    {
     "output_type": "execute_result",
     "data": {
      "text/plain": "20"
     },
     "metadata": {},
     "execution_count": 33
    }
   ],
   "source": [
    "len(titles)"
   ]
  },
  {
   "cell_type": "code",
   "execution_count": 34,
   "metadata": {},
   "outputs": [
    {
     "output_type": "execute_result",
     "data": {
      "text/plain": "'3 BEDROOM FLAT / APARTMENT FOR RENT OSAPA LONDON LEKKI LAGOS'"
     },
     "metadata": {},
     "execution_count": 34
    }
   ],
   "source": [
    "titles_list=[]\n",
    "for title in titles:\n",
    "    titles_list.append(title.get_text())\n",
    "titles_list[1]"
   ]
  },
  {
   "cell_type": "code",
   "execution_count": 161,
   "metadata": {
    "tags": []
   },
   "outputs": [
    {
     "output_type": "execute_result",
     "data": {
      "text/plain": "40"
     },
     "metadata": {},
     "execution_count": 161
    }
   ],
   "source": [
    "prices=soup.select('.pro-main-cont>p>span')\n",
    "len(prices)\n"
   ]
  },
  {
   "cell_type": "code",
   "execution_count": 36,
   "metadata": {},
   "outputs": [],
   "source": [
    "prices_list=[]\n",
    "for i, price in enumerate(prices):\n",
    "    if i % 2!=0:\n",
    "       prices_list.append(price.get('content'))"
   ]
  },
  {
   "cell_type": "code",
   "execution_count": 37,
   "metadata": {},
   "outputs": [
    {
     "output_type": "execute_result",
     "data": {
      "text/plain": "20"
     },
     "metadata": {},
     "execution_count": 37
    }
   ],
   "source": [
    "len(prices_list)"
   ]
  },
  {
   "cell_type": "code",
   "execution_count": 38,
   "metadata": {},
   "outputs": [
    {
     "output_type": "execute_result",
     "data": {
      "text/plain": "'2500000.0'"
     },
     "metadata": {},
     "execution_count": 38
    }
   ],
   "source": [
    "prices_list[1]"
   ]
  },
  {
   "cell_type": "code",
   "execution_count": 39,
   "metadata": {},
   "outputs": [
    {
     "output_type": "execute_result",
     "data": {
      "text/plain": "20"
     },
     "metadata": {},
     "execution_count": 39
    }
   ],
   "source": [
    "locations=soup.select('.pro-location')\n",
    "len(locations)"
   ]
  },
  {
   "cell_type": "code",
   "execution_count": 119,
   "metadata": {
    "tags": []
   },
   "outputs": [
    {
     "output_type": "stream",
     "name": "stdout",
     "text": "['  badore ajah lagos', '  osapa london lekki lagos', '  lekki phase 1 lekki lagos', '  victoria island lagos', '  lekki phase 1 lekki lagos', ' lekki phase 1 lekki lagos', '  old ikoyi ikoyi lagos', '  lekki phase 1 lekki lagos', '  oniru victoria island lagos', '  - banana island ikoyi lagos', '  victoria island victoria island lagos', '  chevron lekki lagos', '  femi okunnu street old ikoyi ikoyi lagos', '  lekki phase 1 lekki lagos', '  banana island ikoyi lagos', '  ikate lekki lagos', '  old ikoyi ikoyi lagos', '  lekki phase 1 lekki lagos', '  old ikoyi ikoyi lagos', ' old ikoyi ikoyi lagos']\n"
    }
   ],
   "source": [
    "location_list=[]\n",
    "for location in locations:\n",
    "    location_list.append(location.get_text())\n",
    "print (location_list)\n"
   ]
  },
  {
   "cell_type": "code",
   "execution_count": 159,
   "metadata": {
    "tags": []
   },
   "outputs": [],
   "source": [
    "#to extract only a part of the location\n",
    "#LGA=([location[15:20] for location in location_list])\n",
    "#print (LGA)"
   ]
  },
  {
   "cell_type": "code",
   "execution_count": 230,
   "metadata": {},
   "outputs": [
    {
     "output_type": "execute_result",
     "data": {
      "text/plain": "22"
     },
     "metadata": {},
     "execution_count": 230
    }
   ],
   "source": [
    "acc=soup.select('.prop-features')\n",
    "len(acc)"
   ]
  },
  {
   "cell_type": "code",
   "execution_count": 231,
   "metadata": {
    "tags": []
   },
   "outputs": [
    {
     "output_type": "stream",
     "name": "stdout",
     "text": "['\\n 3 bed 3 bath 4 toilet \\n', '\\n 3 bed 3 bath 4 toilet \\n', '\\n 3 bed 3 bath 4 toilet \\n', '\\n 3 bed 3 bath 4 toilet \\n', '\\n 3 bed 3 bath 4 toilet \\n', '\\n 3 bed 3 bath 4 toilet \\n', '\\n 3 bed 3 bath 4 toilet \\n', '\\n 3 bed 3 bath 4 toilet \\n', '\\n 4 bed 4 bath 5 toilet \\n', '\\n 4 bed 4 bath 5 toilet \\n', '\\n 3 bed 0 bath 0 toilet \\n', '\\n 5 bed 6 bath 7 toilet \\n', '\\n 4 bed 4 bath 5 toilet \\n', '\\n 3 bed 4 bath 4 toilet \\n', '\\n 1 bed 0 bath 0 toilet \\n', '\\n 3 bed 3 bath 4 toilet \\n', '\\n 5 bed 5 bath 6 toilet \\n', '\\n 2 bed 2 bath 3 toilet \\n', '\\n 2 bed 2 bath 3 toilet \\n', '\\n 2 bed 2 bath 3 toilet \\n', '\\n 3 bed 3 bath 4 toilet \\n', '\\n 3 bed 3 bath 4 toilet \\n']\n"
    },
    {
     "output_type": "execute_result",
     "data": {
      "text/plain": "20"
     },
     "metadata": {},
     "execution_count": 231
    }
   ],
   "source": [
    "acc_list=[]\n",
    "for acc in acc:\n",
    "    acc_list.append(acc.get_text())\n",
    "print(acc_list)\n",
    "accc=acc_list[0:20]\n",
    "len(accc)\n",
    "#\\n 3 bed 3 bath 4 toilet\\n 3 bed 3 bath 4 toilet"
   ]
  },
  {
   "cell_type": "code",
   "execution_count": 232,
   "metadata": {
    "tags": []
   },
   "outputs": [
    {
     "output_type": "stream",
     "name": "stdout",
     "text": "['3', '3', '3', '3', '3', '3', '3', '3', '4', '4', '3', '5', '4', '3', '1', '3', '5', '2', '2', '2']\n"
    },
    {
     "output_type": "execute_result",
     "data": {
      "text/plain": "20"
     },
     "metadata": {},
     "execution_count": 232
    }
   ],
   "source": [
    "beds=([accc [2]for accc in accc ])\n",
    "print (beds)\n",
    "len(beds)\n",
    "\n",
    "\n"
   ]
  },
  {
   "cell_type": "code",
   "execution_count": 218,
   "metadata": {
    "tags": []
   },
   "outputs": [
    {
     "output_type": "stream",
     "name": "stdout",
     "text": "['3', '3', '3', '3', '3', '3', '3', '3', '4', '4', '0', '6', '4', '4', '0', '3', '5', '2', '2', '2']\n"
    }
   ],
   "source": [
    "bath=([accc[8] for accc in accc])\n",
    "print(bath)"
   ]
  },
  {
   "cell_type": "code",
   "execution_count": 219,
   "metadata": {
    "tags": []
   },
   "outputs": [
    {
     "output_type": "stream",
     "name": "stdout",
     "text": "['4', '4', '4', '4', '4', '4', '4', '4', '5', '5', '0', '7', '5', '4', '0', '4', '6', '3', '3', '3']\n"
    }
   ],
   "source": [
    "toilet=([accc[15] for accc in accc])\n",
    "print (toilet)"
   ]
  },
  {
   "cell_type": "code",
   "execution_count": 220,
   "metadata": {},
   "outputs": [
    {
     "output_type": "error",
     "ename": "ValueError",
     "evalue": "could not broadcast input array from shape (3) into shape (20)",
     "traceback": [
      "\u001b[1;31m---------------------------------------------------------------------------\u001b[0m",
      "\u001b[1;31mValueError\u001b[0m                                Traceback (most recent call last)",
      "\u001b[1;32m<ipython-input-220-aaf35cb9ccc7>\u001b[0m in \u001b[0;36m<module>\u001b[1;34m\u001b[0m\n\u001b[1;32m----> 1\u001b[1;33m \u001b[0mproperty\u001b[0m\u001b[1;33m=\u001b[0m\u001b[0mpd\u001b[0m\u001b[1;33m.\u001b[0m\u001b[0mDataFrame\u001b[0m\u001b[1;33m(\u001b[0m\u001b[1;33m{\u001b[0m\u001b[1;34m'title'\u001b[0m\u001b[1;33m:\u001b[0m\u001b[0mtitles_list\u001b[0m\u001b[1;33m,\u001b[0m \u001b[1;34m'price'\u001b[0m\u001b[1;33m:\u001b[0m\u001b[0mprices_list\u001b[0m\u001b[1;33m,\u001b[0m \u001b[1;34m'location'\u001b[0m\u001b[1;33m:\u001b[0m\u001b[0mlocation_list\u001b[0m\u001b[1;33m,\u001b[0m \u001b[1;34m'beds'\u001b[0m\u001b[1;33m:\u001b[0m\u001b[0mbed\u001b[0m\u001b[1;33m,\u001b[0m\u001b[1;34m'bath'\u001b[0m\u001b[1;33m:\u001b[0m\u001b[0mbath\u001b[0m\u001b[1;33m,\u001b[0m \u001b[1;34m'toilet'\u001b[0m\u001b[1;33m:\u001b[0m\u001b[0mtoilet\u001b[0m\u001b[1;33m}\u001b[0m\u001b[1;33m)\u001b[0m\u001b[1;33m\u001b[0m\u001b[1;33m\u001b[0m\u001b[0m\n\u001b[0m",
      "\u001b[1;32m~\\AppData\\Local\\Programs\\Python\\Python38-32\\lib\\site-packages\\pandas\\core\\frame.py\u001b[0m in \u001b[0;36m__init__\u001b[1;34m(self, data, index, columns, dtype, copy)\u001b[0m\n\u001b[0;32m    433\u001b[0m             )\n\u001b[0;32m    434\u001b[0m         \u001b[1;32melif\u001b[0m \u001b[0misinstance\u001b[0m\u001b[1;33m(\u001b[0m\u001b[0mdata\u001b[0m\u001b[1;33m,\u001b[0m \u001b[0mdict\u001b[0m\u001b[1;33m)\u001b[0m\u001b[1;33m:\u001b[0m\u001b[1;33m\u001b[0m\u001b[1;33m\u001b[0m\u001b[0m\n\u001b[1;32m--> 435\u001b[1;33m             \u001b[0mmgr\u001b[0m \u001b[1;33m=\u001b[0m \u001b[0minit_dict\u001b[0m\u001b[1;33m(\u001b[0m\u001b[0mdata\u001b[0m\u001b[1;33m,\u001b[0m \u001b[0mindex\u001b[0m\u001b[1;33m,\u001b[0m \u001b[0mcolumns\u001b[0m\u001b[1;33m,\u001b[0m \u001b[0mdtype\u001b[0m\u001b[1;33m=\u001b[0m\u001b[0mdtype\u001b[0m\u001b[1;33m)\u001b[0m\u001b[1;33m\u001b[0m\u001b[1;33m\u001b[0m\u001b[0m\n\u001b[0m\u001b[0;32m    436\u001b[0m         \u001b[1;32melif\u001b[0m \u001b[0misinstance\u001b[0m\u001b[1;33m(\u001b[0m\u001b[0mdata\u001b[0m\u001b[1;33m,\u001b[0m \u001b[0mma\u001b[0m\u001b[1;33m.\u001b[0m\u001b[0mMaskedArray\u001b[0m\u001b[1;33m)\u001b[0m\u001b[1;33m:\u001b[0m\u001b[1;33m\u001b[0m\u001b[1;33m\u001b[0m\u001b[0m\n\u001b[0;32m    437\u001b[0m             \u001b[1;32mimport\u001b[0m \u001b[0mnumpy\u001b[0m\u001b[1;33m.\u001b[0m\u001b[0mma\u001b[0m\u001b[1;33m.\u001b[0m\u001b[0mmrecords\u001b[0m \u001b[1;32mas\u001b[0m \u001b[0mmrecords\u001b[0m\u001b[1;33m\u001b[0m\u001b[1;33m\u001b[0m\u001b[0m\n",
      "\u001b[1;32m~\\AppData\\Local\\Programs\\Python\\Python38-32\\lib\\site-packages\\pandas\\core\\internals\\construction.py\u001b[0m in \u001b[0;36minit_dict\u001b[1;34m(data, index, columns, dtype)\u001b[0m\n\u001b[0;32m    252\u001b[0m             \u001b[0marr\u001b[0m \u001b[1;32mif\u001b[0m \u001b[1;32mnot\u001b[0m \u001b[0mis_datetime64tz_dtype\u001b[0m\u001b[1;33m(\u001b[0m\u001b[0marr\u001b[0m\u001b[1;33m)\u001b[0m \u001b[1;32melse\u001b[0m \u001b[0marr\u001b[0m\u001b[1;33m.\u001b[0m\u001b[0mcopy\u001b[0m\u001b[1;33m(\u001b[0m\u001b[1;33m)\u001b[0m \u001b[1;32mfor\u001b[0m \u001b[0marr\u001b[0m \u001b[1;32min\u001b[0m \u001b[0marrays\u001b[0m\u001b[1;33m\u001b[0m\u001b[1;33m\u001b[0m\u001b[0m\n\u001b[0;32m    253\u001b[0m         ]\n\u001b[1;32m--> 254\u001b[1;33m     \u001b[1;32mreturn\u001b[0m \u001b[0marrays_to_mgr\u001b[0m\u001b[1;33m(\u001b[0m\u001b[0marrays\u001b[0m\u001b[1;33m,\u001b[0m \u001b[0mdata_names\u001b[0m\u001b[1;33m,\u001b[0m \u001b[0mindex\u001b[0m\u001b[1;33m,\u001b[0m \u001b[0mcolumns\u001b[0m\u001b[1;33m,\u001b[0m \u001b[0mdtype\u001b[0m\u001b[1;33m=\u001b[0m\u001b[0mdtype\u001b[0m\u001b[1;33m)\u001b[0m\u001b[1;33m\u001b[0m\u001b[1;33m\u001b[0m\u001b[0m\n\u001b[0m\u001b[0;32m    255\u001b[0m \u001b[1;33m\u001b[0m\u001b[0m\n\u001b[0;32m    256\u001b[0m \u001b[1;33m\u001b[0m\u001b[0m\n",
      "\u001b[1;32m~\\AppData\\Local\\Programs\\Python\\Python38-32\\lib\\site-packages\\pandas\\core\\internals\\construction.py\u001b[0m in \u001b[0;36marrays_to_mgr\u001b[1;34m(arrays, arr_names, index, columns, dtype)\u001b[0m\n\u001b[0;32m     72\u001b[0m     \u001b[0maxes\u001b[0m \u001b[1;33m=\u001b[0m \u001b[1;33m[\u001b[0m\u001b[0mensure_index\u001b[0m\u001b[1;33m(\u001b[0m\u001b[0mcolumns\u001b[0m\u001b[1;33m)\u001b[0m\u001b[1;33m,\u001b[0m \u001b[0mindex\u001b[0m\u001b[1;33m]\u001b[0m\u001b[1;33m\u001b[0m\u001b[1;33m\u001b[0m\u001b[0m\n\u001b[0;32m     73\u001b[0m \u001b[1;33m\u001b[0m\u001b[0m\n\u001b[1;32m---> 74\u001b[1;33m     \u001b[1;32mreturn\u001b[0m \u001b[0mcreate_block_manager_from_arrays\u001b[0m\u001b[1;33m(\u001b[0m\u001b[0marrays\u001b[0m\u001b[1;33m,\u001b[0m \u001b[0marr_names\u001b[0m\u001b[1;33m,\u001b[0m \u001b[0maxes\u001b[0m\u001b[1;33m)\u001b[0m\u001b[1;33m\u001b[0m\u001b[1;33m\u001b[0m\u001b[0m\n\u001b[0m\u001b[0;32m     75\u001b[0m \u001b[1;33m\u001b[0m\u001b[0m\n\u001b[0;32m     76\u001b[0m \u001b[1;33m\u001b[0m\u001b[0m\n",
      "\u001b[1;32m~\\AppData\\Local\\Programs\\Python\\Python38-32\\lib\\site-packages\\pandas\\core\\internals\\managers.py\u001b[0m in \u001b[0;36mcreate_block_manager_from_arrays\u001b[1;34m(arrays, names, axes)\u001b[0m\n\u001b[0;32m   1673\u001b[0m         \u001b[1;32mreturn\u001b[0m \u001b[0mmgr\u001b[0m\u001b[1;33m\u001b[0m\u001b[1;33m\u001b[0m\u001b[0m\n\u001b[0;32m   1674\u001b[0m     \u001b[1;32mexcept\u001b[0m \u001b[0mValueError\u001b[0m \u001b[1;32mas\u001b[0m \u001b[0me\u001b[0m\u001b[1;33m:\u001b[0m\u001b[1;33m\u001b[0m\u001b[1;33m\u001b[0m\u001b[0m\n\u001b[1;32m-> 1675\u001b[1;33m         \u001b[0mconstruction_error\u001b[0m\u001b[1;33m(\u001b[0m\u001b[0mlen\u001b[0m\u001b[1;33m(\u001b[0m\u001b[0marrays\u001b[0m\u001b[1;33m)\u001b[0m\u001b[1;33m,\u001b[0m \u001b[0marrays\u001b[0m\u001b[1;33m[\u001b[0m\u001b[1;36m0\u001b[0m\u001b[1;33m]\u001b[0m\u001b[1;33m.\u001b[0m\u001b[0mshape\u001b[0m\u001b[1;33m,\u001b[0m \u001b[0maxes\u001b[0m\u001b[1;33m,\u001b[0m \u001b[0me\u001b[0m\u001b[1;33m)\u001b[0m\u001b[1;33m\u001b[0m\u001b[1;33m\u001b[0m\u001b[0m\n\u001b[0m\u001b[0;32m   1676\u001b[0m \u001b[1;33m\u001b[0m\u001b[0m\n\u001b[0;32m   1677\u001b[0m \u001b[1;33m\u001b[0m\u001b[0m\n",
      "\u001b[1;32m~\\AppData\\Local\\Programs\\Python\\Python38-32\\lib\\site-packages\\pandas\\core\\internals\\managers.py\u001b[0m in \u001b[0;36mconstruction_error\u001b[1;34m(tot_items, block_shape, axes, e)\u001b[0m\n\u001b[0;32m   1689\u001b[0m \u001b[1;33m\u001b[0m\u001b[0m\n\u001b[0;32m   1690\u001b[0m     \u001b[1;32mif\u001b[0m \u001b[0mpassed\u001b[0m \u001b[1;33m==\u001b[0m \u001b[0mimplied\u001b[0m \u001b[1;32mand\u001b[0m \u001b[0me\u001b[0m \u001b[1;32mis\u001b[0m \u001b[1;32mnot\u001b[0m \u001b[1;32mNone\u001b[0m\u001b[1;33m:\u001b[0m\u001b[1;33m\u001b[0m\u001b[1;33m\u001b[0m\u001b[0m\n\u001b[1;32m-> 1691\u001b[1;33m         \u001b[1;32mraise\u001b[0m \u001b[0me\u001b[0m\u001b[1;33m\u001b[0m\u001b[1;33m\u001b[0m\u001b[0m\n\u001b[0m\u001b[0;32m   1692\u001b[0m     \u001b[1;32mif\u001b[0m \u001b[0mblock_shape\u001b[0m\u001b[1;33m[\u001b[0m\u001b[1;36m0\u001b[0m\u001b[1;33m]\u001b[0m \u001b[1;33m==\u001b[0m \u001b[1;36m0\u001b[0m\u001b[1;33m:\u001b[0m\u001b[1;33m\u001b[0m\u001b[1;33m\u001b[0m\u001b[0m\n\u001b[0;32m   1693\u001b[0m         \u001b[1;32mraise\u001b[0m \u001b[0mValueError\u001b[0m\u001b[1;33m(\u001b[0m\u001b[1;34m\"Empty data passed with indices specified.\"\u001b[0m\u001b[1;33m)\u001b[0m\u001b[1;33m\u001b[0m\u001b[1;33m\u001b[0m\u001b[0m\n",
      "\u001b[1;32m~\\AppData\\Local\\Programs\\Python\\Python38-32\\lib\\site-packages\\pandas\\core\\internals\\managers.py\u001b[0m in \u001b[0;36mcreate_block_manager_from_arrays\u001b[1;34m(arrays, names, axes)\u001b[0m\n\u001b[0;32m   1668\u001b[0m \u001b[1;33m\u001b[0m\u001b[0m\n\u001b[0;32m   1669\u001b[0m     \u001b[1;32mtry\u001b[0m\u001b[1;33m:\u001b[0m\u001b[1;33m\u001b[0m\u001b[1;33m\u001b[0m\u001b[0m\n\u001b[1;32m-> 1670\u001b[1;33m         \u001b[0mblocks\u001b[0m \u001b[1;33m=\u001b[0m \u001b[0mform_blocks\u001b[0m\u001b[1;33m(\u001b[0m\u001b[0marrays\u001b[0m\u001b[1;33m,\u001b[0m \u001b[0mnames\u001b[0m\u001b[1;33m,\u001b[0m \u001b[0maxes\u001b[0m\u001b[1;33m)\u001b[0m\u001b[1;33m\u001b[0m\u001b[1;33m\u001b[0m\u001b[0m\n\u001b[0m\u001b[0;32m   1671\u001b[0m         \u001b[0mmgr\u001b[0m \u001b[1;33m=\u001b[0m \u001b[0mBlockManager\u001b[0m\u001b[1;33m(\u001b[0m\u001b[0mblocks\u001b[0m\u001b[1;33m,\u001b[0m \u001b[0maxes\u001b[0m\u001b[1;33m)\u001b[0m\u001b[1;33m\u001b[0m\u001b[1;33m\u001b[0m\u001b[0m\n\u001b[0;32m   1672\u001b[0m         \u001b[0mmgr\u001b[0m\u001b[1;33m.\u001b[0m\u001b[0m_consolidate_inplace\u001b[0m\u001b[1;33m(\u001b[0m\u001b[1;33m)\u001b[0m\u001b[1;33m\u001b[0m\u001b[1;33m\u001b[0m\u001b[0m\n",
      "\u001b[1;32m~\\AppData\\Local\\Programs\\Python\\Python38-32\\lib\\site-packages\\pandas\\core\\internals\\managers.py\u001b[0m in \u001b[0;36mform_blocks\u001b[1;34m(arrays, names, axes)\u001b[0m\n\u001b[0;32m   1755\u001b[0m \u001b[1;33m\u001b[0m\u001b[0m\n\u001b[0;32m   1756\u001b[0m     \u001b[1;32mif\u001b[0m \u001b[0mlen\u001b[0m\u001b[1;33m(\u001b[0m\u001b[0mitems_dict\u001b[0m\u001b[1;33m[\u001b[0m\u001b[1;34m\"ObjectBlock\"\u001b[0m\u001b[1;33m]\u001b[0m\u001b[1;33m)\u001b[0m \u001b[1;33m>\u001b[0m \u001b[1;36m0\u001b[0m\u001b[1;33m:\u001b[0m\u001b[1;33m\u001b[0m\u001b[1;33m\u001b[0m\u001b[0m\n\u001b[1;32m-> 1757\u001b[1;33m         \u001b[0mobject_blocks\u001b[0m \u001b[1;33m=\u001b[0m \u001b[0m_simple_blockify\u001b[0m\u001b[1;33m(\u001b[0m\u001b[0mitems_dict\u001b[0m\u001b[1;33m[\u001b[0m\u001b[1;34m\"ObjectBlock\"\u001b[0m\u001b[1;33m]\u001b[0m\u001b[1;33m,\u001b[0m \u001b[0mnp\u001b[0m\u001b[1;33m.\u001b[0m\u001b[0mobject_\u001b[0m\u001b[1;33m)\u001b[0m\u001b[1;33m\u001b[0m\u001b[1;33m\u001b[0m\u001b[0m\n\u001b[0m\u001b[0;32m   1758\u001b[0m         \u001b[0mblocks\u001b[0m\u001b[1;33m.\u001b[0m\u001b[0mextend\u001b[0m\u001b[1;33m(\u001b[0m\u001b[0mobject_blocks\u001b[0m\u001b[1;33m)\u001b[0m\u001b[1;33m\u001b[0m\u001b[1;33m\u001b[0m\u001b[0m\n\u001b[0;32m   1759\u001b[0m \u001b[1;33m\u001b[0m\u001b[0m\n",
      "\u001b[1;32m~\\AppData\\Local\\Programs\\Python\\Python38-32\\lib\\site-packages\\pandas\\core\\internals\\managers.py\u001b[0m in \u001b[0;36m_simple_blockify\u001b[1;34m(tuples, dtype)\u001b[0m\n\u001b[0;32m   1799\u001b[0m     \u001b[1;32mnot\u001b[0m \u001b[1;32mNone\u001b[0m\u001b[1;33m,\u001b[0m \u001b[0mcoerce\u001b[0m \u001b[0mto\u001b[0m \u001b[0mthis\u001b[0m \u001b[0mdtype\u001b[0m\u001b[1;33m\u001b[0m\u001b[1;33m\u001b[0m\u001b[0m\n\u001b[0;32m   1800\u001b[0m     \"\"\"\n\u001b[1;32m-> 1801\u001b[1;33m     \u001b[0mvalues\u001b[0m\u001b[1;33m,\u001b[0m \u001b[0mplacement\u001b[0m \u001b[1;33m=\u001b[0m \u001b[0m_stack_arrays\u001b[0m\u001b[1;33m(\u001b[0m\u001b[0mtuples\u001b[0m\u001b[1;33m,\u001b[0m \u001b[0mdtype\u001b[0m\u001b[1;33m)\u001b[0m\u001b[1;33m\u001b[0m\u001b[1;33m\u001b[0m\u001b[0m\n\u001b[0m\u001b[0;32m   1802\u001b[0m \u001b[1;33m\u001b[0m\u001b[0m\n\u001b[0;32m   1803\u001b[0m     \u001b[1;31m# TODO: CHECK DTYPE?\u001b[0m\u001b[1;33m\u001b[0m\u001b[1;33m\u001b[0m\u001b[1;33m\u001b[0m\u001b[0m\n",
      "\u001b[1;32m~\\AppData\\Local\\Programs\\Python\\Python38-32\\lib\\site-packages\\pandas\\core\\internals\\managers.py\u001b[0m in \u001b[0;36m_stack_arrays\u001b[1;34m(tuples, dtype)\u001b[0m\n\u001b[0;32m   1848\u001b[0m     \u001b[0mstacked\u001b[0m \u001b[1;33m=\u001b[0m \u001b[0mnp\u001b[0m\u001b[1;33m.\u001b[0m\u001b[0mempty\u001b[0m\u001b[1;33m(\u001b[0m\u001b[0mshape\u001b[0m\u001b[1;33m,\u001b[0m \u001b[0mdtype\u001b[0m\u001b[1;33m=\u001b[0m\u001b[0mdtype\u001b[0m\u001b[1;33m)\u001b[0m\u001b[1;33m\u001b[0m\u001b[1;33m\u001b[0m\u001b[0m\n\u001b[0;32m   1849\u001b[0m     \u001b[1;32mfor\u001b[0m \u001b[0mi\u001b[0m\u001b[1;33m,\u001b[0m \u001b[0marr\u001b[0m \u001b[1;32min\u001b[0m \u001b[0menumerate\u001b[0m\u001b[1;33m(\u001b[0m\u001b[0marrays\u001b[0m\u001b[1;33m)\u001b[0m\u001b[1;33m:\u001b[0m\u001b[1;33m\u001b[0m\u001b[1;33m\u001b[0m\u001b[0m\n\u001b[1;32m-> 1850\u001b[1;33m         \u001b[0mstacked\u001b[0m\u001b[1;33m[\u001b[0m\u001b[0mi\u001b[0m\u001b[1;33m]\u001b[0m \u001b[1;33m=\u001b[0m \u001b[0m_asarray_compat\u001b[0m\u001b[1;33m(\u001b[0m\u001b[0marr\u001b[0m\u001b[1;33m)\u001b[0m\u001b[1;33m\u001b[0m\u001b[1;33m\u001b[0m\u001b[0m\n\u001b[0m\u001b[0;32m   1851\u001b[0m \u001b[1;33m\u001b[0m\u001b[0m\n\u001b[0;32m   1852\u001b[0m     \u001b[1;32mreturn\u001b[0m \u001b[0mstacked\u001b[0m\u001b[1;33m,\u001b[0m \u001b[0mplacement\u001b[0m\u001b[1;33m\u001b[0m\u001b[1;33m\u001b[0m\u001b[0m\n",
      "\u001b[1;31mValueError\u001b[0m: could not broadcast input array from shape (3) into shape (20)"
     ]
    }
   ],
   "source": [
    "property=pd.DataFrame({'title':titles_list, 'price':prices_list, 'location':location_list, 'beds':bed,'bath':bath, 'toilet':toilet})"
   ]
  },
  {
   "cell_type": "code",
   "execution_count": null,
   "metadata": {},
   "outputs": [],
   "source": []
  }
 ],
 "metadata": {
  "language_info": {
   "codemirror_mode": {
    "name": "ipython",
    "version": 3
   },
   "file_extension": ".py",
   "mimetype": "text/x-python",
   "name": "python",
   "nbconvert_exporter": "python",
   "pygments_lexer": "ipython3",
   "version": 3
  },
  "orig_nbformat": 2,
  "kernelspec": {
   "name": "python_defaultSpec_1594378939574",
   "display_name": "Python 3.8.3 32-bit"
  }
 },
 "nbformat": 4,
 "nbformat_minor": 2
}