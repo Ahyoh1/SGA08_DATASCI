{
 "cells": [
  {
   "cell_type": "code",
   "execution_count": 19,
   "metadata": {},
   "outputs": [],
   "source": [
    "import requests\n",
    "from bs4 import BeautifulSoup"
   ]
  },
  {
   "cell_type": "code",
   "execution_count": 16,
   "metadata": {},
   "outputs": [],
   "source": [
    "base_url='https://www.propertypro.ng/property-for-rent?search=&auto=&type=&bedroom=&max_price='\n",
    "headers={'user-agent': 'Mozilla/5.0 (Windows NT 10.0; Win64; x64) AppleWebKit/537.36 (KHTML, like Gecko) Chrome/83.0.4103.116 Safari/537.36'}"
   ]
  },
  {
   "cell_type": "code",
   "execution_count": 17,
   "metadata": {},
   "outputs": [],
   "source": [
    "r=requests.get(base_url, headers=headers)"
   ]
  },
  {
   "cell_type": "code",
   "execution_count": 18,
   "metadata": {},
   "outputs": [
    {
     "output_type": "execute_result",
     "data": {
      "text/plain": "200"
     },
     "metadata": {},
     "execution_count": 18
    }
   ],
   "source": [
    "r.status_code"
   ]
  },
  {
   "cell_type": "code",
   "execution_count": 20,
   "metadata": {},
   "outputs": [],
   "source": [
    "soup=BeautifulSoup(r.text, 'html.parser')"
   ]
  },
  {
   "cell_type": "code",
   "execution_count": 21,
   "metadata": {
    "tags": [
     "outputPrepend"
    ]
   },
   "outputs": [
    {
     "output_type": "stream",
     "name": "stdout",
     "text": "</div>\n           <div class=\"col-lg-4 col-md-4 col-sm-4\">\n            <ul>\n             <li>\n              <a href=\"/property-for-short-let/in/lagos\">\n               Short let in Lagos\n              </a>\n             </li>\n             <li>\n              <a href=\"/property-for-short-let/in/lagos/ikeja\">\n               Short let in Ikeja\n              </a>\n             </li>\n             <li>\n              <a href=\"/property-for-short-let/in/lagos/lekki\">\n               Short let in Lekki\n              </a>\n             </li>\n             <li>\n              <a href=\"/property-for-rent/commercial-property/office-space/in/lagos\">\n               Office space for rent in Lagos\n              </a>\n             </li>\n             <li>\n              <a href=\"/property-for-rent/commercial-property/office-space/in/abuja\">\n               Office space for rent in Abuja\n              </a>\n             </li>\n            </ul>\n           </div>\n          </div>\n         </div>\n        </div>\n       </div>\n      </div>\n     </div>\n    </div>\n   </div>\n  </section>\n  <div class=\"container\">\n   <div class=\"row\">\n    <div class=\"col-12 text-center\">\n    </div>\n   </div>\n  </div>\n  <div class=\"modal\" id=\"request-prop-modal\" role=\"dialog\">\n   <div class=\"modal-dialog\" role=\"document\">\n    <div class=\"modal-content\">\n     <div class=\"modal-header\">\n      <button aria-label=\"Close\" class=\"close alert-close\" data-dismiss=\"modal\" type=\"button\">\n       <span aria-hidden=\"true\">\n        ×\n       </span>\n      </button>\n     </div>\n     <div class=\"modal-body\">\n      <div class=\"mockup-cont\">\n      </div>\n      <img alt=\"\" class=\"magnify\" src=\"/assets/app/images/62959a08f548a31a5e6d8577fffa38c7-notify-scope.svg\"/>\n      <h4 class=\"title\">\n       Can’t find what you are looking for?\n      </h4>\n      <a class=\"btn primary btn-block\" href=\"/post-request\">\n       Clck To Post Your Request\n      </a>\n     </div>\n    </div>\n   </div>\n  </div>\n  <div class=\"modal\" id=\"newsletter-modal\" role=\"dialog\">\n   <div class=\"modal-dialog\" role=\"document\">\n    <div class=\"modal-content\">\n     <div class=\"modal-header\">\n      <button aria-label=\"Close\" class=\"close alert-close\" data-dismiss=\"modal\" type=\"button\">\n       <span aria-hidden=\"true\">\n        ×\n       </span>\n      </button>\n     </div>\n     <div class=\"modal-body\">\n      <form action=\"/notify\" class=\"envelope-cont text-center\" method=\"POST\">\n       <img alt=\"\" src=\"/assets/app/images/68c3afb93f4e1d953ae1a1176e9265fd-subscribe_envelope.svg\"/>\n       <p>\n        Receive alerts when we have new properties available for:\n       </p>\n       <h4 class=\"title\">\n        Property for rent\n       </h4>\n       <input class=\"form-control\" name=\"name\" placeholder=\"Name\" required=\"required\" type=\"text\" value=\"\"/>\n       <input class=\"form-control\" name=\"email\" placeholder=\"Email Address\" required=\"required\" type=\"email\" value=\"\"/>\n       <input name=\"mode\" type=\"hidden\" value=\"rent\"/>\n       <input name=\"search\" type=\"hidden\" value=\"\"/>\n       <input name=\"state\" type=\"hidden\" value=\"\"/>\n       <input name=\"axis\" type=\"hidden\" value=\"\"/>\n       <input name=\"area\" type=\"hidden\" value=\"\"/>\n       <input name=\"type\" type=\"hidden\" value=\"\"/>\n       <input name=\"beds\" type=\"hidden\" value=\"\"/>\n       <input name=\"min_price\" type=\"hidden\" value=\"\"/>\n       <input name=\"max_price\" type=\"hidden\" value=\"\"/>\n       <button class=\"btn secondry btn-block alert2-btn\" type=\"button\">\n        Notify me\n       </button>\n      </form>\n     </div>\n    </div>\n   </div>\n  </div>\n  <footer>\n   <div class=\"container\">\n    <div class=\"row\">\n     <div class=\"col-lg-6 col-md-12 col-sm-12\">\n      <ul class=\"lnks text-lg-left text-md-center text-sm-center\">\n       <li>\n        <a href=\"http://tpg.ng\">\n         ToLet Property Group\n        </a>\n       </li>\n       <li>\n        <a href=\"https://www.propertypro.ng/blog\">\n         Blog\n        </a>\n       </li>\n       <li>\n        <a href=\"/about\">\n         About Us\n        </a>\n       </li>\n       <li>\n        <a href=\"/contact\">\n         Contact Us\n        </a>\n       </li>\n       <li>\n        <a href=\"/terms\">\n         Terms and Conditions\n        </a>\n       </li>\n       <li>\n        <a href=\"/agents\">\n         Agents\n        </a>\n       </li>\n       <li>\n        <a href=\"/sitemap.html\">\n         SiteMap\n        </a>\n       </li>\n       <li>\n        <a href=\"/advertise-with-us\">\n         Advertise With Us\n        </a>\n       </li>\n       <li>\n        <a href=\"https://www.realtornigeria.com\">\n         RealtorNigeria\n        </a>\n       </li>\n      </ul>\n     </div>\n     <div class=\"col-lg-1 offset-lg-5 col-md-12 offset-md-0 col-sm-12 text-right footer-logo\">\n      <div class=\"loader\">\n       <div class=\"flipper\">\n        <div class=\"front\">\n         <a class=\"spining-logo\" href=\"/\">\n          <img alt=\"\" class=\"img-responsive\" src=\"/assets/app/images/2d59d3559159cdf645dab87db0a55c91-footer-logo.svg\"/>\n         </a>\n        </div>\n        <div class=\"back\">\n         <a class=\"spining-logo\" href=\"/\">\n          <img alt=\"\" class=\"img-responsive\" src=\"/assets/app/images/2d59d3559159cdf645dab87db0a55c91-footer-logo.svg\"/>\n         </a>\n        </div>\n       </div>\n      </div>\n     </div>\n     <div class=\"col-lg-12 col-md-12 col-sm-12 main\">\n      <span class=\"copy\">\n       © copyright 2019 PropertyPro.ng all rights reserved\n      </span>\n      <ul class=\"float-right socials\">\n       <li>\n        <a class=\"fa fa-facebook\" href=\"https://www.facebook.com/propertyprong/\">\n        </a>\n       </li>\n       <li>\n        <a class=\"fa fa-twitter\" href=\"https://twitter.com/propertyprong\">\n        </a>\n       </li>\n       <li>\n        <a class=\"fa fa-instagram\" href=\"https://www.instagram.com/propertyprong/\">\n        </a>\n       </li>\n      </ul>\n     </div>\n    </div>\n   </div>\n  </footer>\n  <script data-cfasync=\"false\" src=\"/cdn-cgi/scripts/5c5dd728/cloudflare-static/email-decode.min.js\">\n  </script>\n  <script src=\"/assets/app/js/7a05ce80a58913d9c495bb8365682599-plugins.js\" type=\"ae78de84bf0a720d3409228d-text/javascript\">\n  </script>\n  <script src=\"/assets/app/js/6d1954a1e611761c11175c937fe1fdc5-listings.min.js\" type=\"ae78de84bf0a720d3409228d-text/javascript\">\n  </script>\n  <script type=\"ae78de84bf0a720d3409228d-text/javascript\">\n   var searchState = '';\n        var searchAxis = '';\n        var searchArea = '';\n        var reqSearch = '';\n\n\n        $(document).ready(function () {\n\n            $('#to_refine_search').click(function () {\n                $('html, body').animate({scrollTop: $('#refine_search').offset().top}, 'slow');\n            });\n\n            if (searchState) {\n                var useEndpoint, guideSlug;\n                var baseEndpoint = 'https://www.propertypro.ng' + '/guide/wp-json/wp/v2/';\n                if (searchArea && searchAxis) {\n                    useEndpoint = baseEndpoint + 'areas';\n                    guideSlug = searchArea + '-' + searchAxis + '-' + searchState;\n                } else if (searchAxis) {\n                    useEndpoint = baseEndpoint + 'axes';\n                    guideSlug = searchAxis + '-' + searchState;\n                } else {\n                    if (reqSearch) {\n                        // split to know components\n                        var searchArray = reqSearch.split(',');\n                        var arrayLength = searchArray.length;\n                        if (3 == arrayLength) {\n                            // area\n                            useEndpoint = baseEndpoint + 'areas';\n                            guideSlug = slugify(searchArray[0]) + '-' + slugify(searchArray[1]) + '-' + searchState;\n                        } else if (2 == arrayLength) {\n                            // axis\n                            useEndpoint = baseEndpoint + 'axes';\n                            guideSlug = slugify(searchArray[0]) + '-' + searchState;\n                        } else {\n                            useEndpoint = baseEndpoint + 'states';\n                            guideSlug = searchState;\n                        }\n                    } else {\n                        useEndpoint = baseEndpoint + 'states';\n                        guideSlug = searchState;\n                    }\n                }\n\n                $.getJSON(useEndpoint + '?per_page=1&slug=' + encodeURIComponent(guideSlug) + '&_embed', function (data) {\n                    if(data.length) {\n                        data = data[0];\n                        var hood = {\n                            title: data.title.rendered,\n                            desc: data.content.rendered,\n                            link: data.link\n                        };\n                        var featuredMedia = data._embedded['wp:featuredmedia'];\n                        if (featuredMedia && featuredMedia.length) {\n                            if (\n                                featuredMedia[0].media_details &&\n                                featuredMedia[0].media_details.sizes &&\n                                featuredMedia[0].media_details.sizes['post-thumbnail'] &&\n                                featuredMedia[0].media_details.sizes['post-thumbnail'].source_url ) {\n                                hood.image = featuredMedia[0].media_details.sizes['post-thumbnail'].source_url;\n                            } else if (featuredMedia[0].source_url) {\n                                // use the full image\n                                hood.image = featuredMedia[0].source_url;\n                            }\n                        }\n                        var $properties = $('.property-bg');\n                        // we want to put after the 10th, else after the last\n                        if ($properties.length >= 10) {\n                            $properties.eq(9).parent().after( Handlebars.templates.neighborhood(hood) );\n                        } else if ($properties.length) {\n                            $properties.last().parent().after( Handlebars.templates.neighborhood(hood) );\n                        } else {\n                            $('.jumbotron.sorry').parent().after( Handlebars.templates.neighborhood(hood) );\n                        }\n                        if($('article.readmore').length){\n                            $('article.readmore').readmore({\n                                collapsedHeight:120\n                            });\n                        }\n//                        if ('undefined' != typeof hasResults) {\n//                            //\n//                        } else {\n//                            //\n//                        }\n                    }\n                });\n            }\n\n            function initReadmoreJS( start ) {\n                var readMores = $('p.readmore');\n                if(readMores.length > 0){\n                    readMores.slice( start ).readmore({\n                        collapsedHeight:30,\n                        moreLink: '<a href=\"#\">Read More+</a>'\n                    });\n                }\n            }\n\n            var sidebarReadmores = $('.results-sidebar-readmore');\n            if(sidebarReadmores.length > 0){\n                sidebarReadmores.readmore({\n                    collapsedHeight:175,\n                    moreLink: '<button class=\"btn btn-block btn-sidebar-readmore\" type=\"button\">Show More</button>',\n                    lessLink: '<button class=\"btn btn-block btn-sidebar-readmore\" type=\"button\">Show Less</button>'\n                });\n            }\n\n            $('a[href=\"#email-me\"]').on('click', function(event) {\n                var target = $('.alert2-form');\n                if( target.length ) {\n                    event.preventDefault();\n                    $('html, body').stop().animate({\n                        scrollTop: target.offset().top\n                    }, 1000);\n                }\n            });\n\n            $('#sort-by-dropdown').change(function () {\n                var val = $( this ).val();\n                if ( val ) {\n                    window.location.href = val\n                } else {\n                    if ( window.location.href.indexOf( 'sort=amount&order=desc' ) !== -1 ) {\n                        window.location.href = window.location.href.replace( 'sort=amount&order=desc', '' )\n                    } else if( window.location.href.indexOf( 'sort=amount&order=asc' ) !== -1 ){\n                        window.location.href = window.location.href.replace( 'sort=amount&order=asc', '' )\n                    } else if( window.location.href.indexOf( 'sort=postedOn&order=desc' ) !== -1 ){\n                        window.location.href = window.location.href.replace( 'sort=postedOn&order=desc', '' )\n                    } else if( window.location.href.indexOf( 'sort=beds&order=desc' ) !== -1 ){\n                        window.location.href = window.location.href.replace( 'sort=beds&order=desc', '' )\n                    }\n                }\n            });\n\n\n            \n\n\n            $(\".sticky-ad\").stick_in_parent();\n\n            $(\".alert-close\").click(function(e) {\n                $.get( \"/hideAlertPop\", function(data) {\n                });\n            });\n\n        });\n        function throttle(fn, wait) {\n            var time = Date.now();\n            return function() {\n                if ((time + wait - Date.now()) < 0) {\n                    fn();\n                    time = Date.now();\n                }\n            }\n        }\n\n\n        function slugify(text)\n        {\n            return text.toString().toLowerCase()\n                    .replace(/\\s+/g, '-')           // Replace spaces with -\n                    .replace(/[^\\w\\-]+/g, '')       // Remove all non-word chars\n                    .replace(/\\-\\-+/g, '-')         // Replace multiple - with single -\n                    .replace(/^-+/, '')             // Trim - from start of text\n                    .replace(/-+$/, '');            // Trim - from end of text\n        }\n\n        \n            jQuery(window).load(function() {\n                var show = true;\n                var height = 0.5 * $(document).height();\n                $(window).scroll(function(){\n                    if ($(this).scrollTop() >= height) {\n                        if(show) {\n                            jQuery('#newsletter-modal').modal({'show': true, 'backdrop': false});\n                            jQuery('#request-prop-modal').modal({'show': true, 'backdrop': false});\n                        }\n                    }\n\n                });\n                jQuery('#newsletter-modal').on('hidden.bs.modal', function (e) {\n                    show = false;\n                });\n                jQuery('#request-prop-modal').on('hidden.bs.modal', function (e) {\n                    show = false;\n                });\n            });\n  </script>\n  <script type=\"ae78de84bf0a720d3409228d-text/javascript\">\n   $(document).ready(function() {\n\n                $.get('/areas.json', function(data){\n                    $( \".searchInput\" ).autocomplete({\n                        //minLength:2,\n                        //delay:1000,\n                        source: data,\n                        //autoFocus: true,\n                        //focus: function (event, ui) {\n                        //$(this).val(ui.item.value);\n                        //}\n                        select: function (event, ui) {\n                            $(\"#auto\").val(ui.item.value);\n                        }\n                        //,focus: function( event, ui ) { event.preventDefault(); }\n                    });\n                    //$(\".searchInput\").typeahead({ source:data, items:4, autoSelect:false });\n                },'json');\n\n                $(\".alert2-btn\").click(function(){\n                    var valid = true;\n                    var form = $(this).parents(\"form\");\n                    form.find(\"input\").each(function(){\n                        if($(this).val().length === 0 && $(this).attr(\"required\") === \"required\") {\n                            $(this).addClass('error');\n                            valid = false;\n                        } else {\n                            $(this).removeClass('error');\n                        }\n                    });\n                    if(!valid) {\n                        alert(\"Please enter your name and email address\");\n                        return;\n                    }\n                    $(\"#ajaxWait\").show();\n                    $.ajax({\n                        type: 'POST',\n                        url: form.attr(\"action\"),\n                        data: form.serialize(),\n                        success: function(data) {\n                            if(data===\"success\") {\n                                alert(\"You have successfully subscribed\");\n                            } else if(data===\"already\") {\n                                alert(\"You have already subscribed to this search\");\n                            } else {\n                                alert(data);\n                            }\n                            $(\"#ajaxWait\").hide();\n                            $('#alert-panel').slideUp();\n                        }\n                    });\n                    return false;\n                });\n\n                $(\"#nav-expo img\").click(function(e) {\n                    window.open('https://www.propertypro.ng/silverspring/?utm_source=website&utm_medium=banner&utm_campaign=silverspring_banner', '_blank', 'toolbar=yes, location=yes, status=yes, menubar=yes, scrollbars=yes');\n                });\n\n                $(\"#nav-expo .expo-img span\").click(function(e) {\n                    $.get( \"/hideExpoStrip\", function(data) {\n                    });\n                    $(\"#nav-expo\").slideUp('slow');\n                });\n\n                \n            });\n\n            function init() {\n                var imgDefer = document.getElementsByTagName('img');\n                for (var i = 0; i < imgDefer.length; i++) {\n                    if (imgDefer[i].getAttribute('data-src')) {\n                        imgDefer[i].setAttribute('src',imgDefer[i].getAttribute('data-src'));\n                    }\n                }\n            }\n\n            window.onload = init;\n\n            function  areaSpecialistPhone(name, phone) {\n                Show(name + \"'s phone number\", \"<a style='font-size: 30px; color: gray' href='tel:\"+phone+\"'>\"+phone+\"</a>\");\n            }\n\n            /*\n            $(document).ready(function() {\n                $.get(\"https://api.ipify.org?format=json\",\n                    function (data) {\n                        var ip = data.ip;\n                        $.get( \"/client_ip_address\", {ip: ip})\n                            .done(function( data ) {\n                                //alert(data);\n                            });\n                    });\n            });\n            */\n  </script>\n  <script type=\"ae78de84bf0a720d3409228d-text/javascript\">\n   $(function() {\n\n            $(\"#home-banner\").attr(\"style\", \"background-image:url(https://toletstatic.s3-us-west-2.amazonaws.com/reservillle-5-bed-homepage-takeover.jpg);\");\n\n$(\"#banner-link\").click(function(e) {          \twindow.open('https://www.propertypro.ng/offers/?utm_source=website&utm_medium=slider&utm_campaign=reserville_banner', '_blank', 'toolbar=yes, location=yes, status=yes, menubar=yes, scrollbars=yes');\n});\n\n\n/*\n           $(\"#home-popup img\").attr(\"src\",\"https://toletstatic.s3-us-west-2.amazonaws.com/mouka_600x600.gif\");      \n\n            if($('#home-popup').length > 0) {\n                $('#home-popup').modal('show');\n            }\n\n            $(\"#home-popup img\").click(function(e) {\n                window.open('https://www.mouka.com/product/flora/?utm_source=propertypro&utm_medium=banner&utm_campaign=flora', '_blank', 'toolbar=yes, location=yes, status=yes, menubar=yes, scrollbars=yes');\n            });\n*/\n\n        });\n  </script>\n  <script data-cf-settings=\"ae78de84bf0a720d3409228d-|49\" defer=\"\" src=\"https://ajax.cloudflare.com/cdn-cgi/scripts/7089c43e/cloudflare-static/rocket-loader.min.js\">\n  </script>\n </body>\n</html>\n"
    }
   ],
   "source": [
    "print (soup.prettify())"
   ]
  },
  {
   "cell_type": "code",
   "execution_count": 24,
   "metadata": {
    "tags": []
   },
   "outputs": [
    {
     "output_type": "stream",
     "name": "stdout",
     "text": "Property & Houses for rent  in Nigeria (32,870 listings) | PropertyPro.ng\n"
    }
   ],
   "source": [
    "print(soup.title.get_text())"
   ]
  },
  {
   "cell_type": "code",
   "execution_count": 27,
   "metadata": {},
   "outputs": [],
   "source": [
    "titles=soup.select('.pro-main-cont>a>h2')"
   ]
  },
  {
   "cell_type": "code",
   "execution_count": 28,
   "metadata": {},
   "outputs": [
    {
     "output_type": "execute_result",
     "data": {
      "text/plain": "20"
     },
     "metadata": {},
     "execution_count": 28
    }
   ],
   "source": [
    "len(titles)"
   ]
  },
  {
   "cell_type": "code",
   "execution_count": 29,
   "metadata": {},
   "outputs": [
    {
     "output_type": "execute_result",
     "data": {
      "text/plain": "'2 BEDROOM FLAT / APARTMENT FOR RENT LEKKI PHASE 1 LEKKI LAGOS'"
     },
     "metadata": {},
     "execution_count": 29
    }
   ],
   "source": [
    "titles_list=[]\n",
    "for title in titles:\n",
    "    titles_list.append(title.get_text())\n",
    "titles_list[1]"
   ]
  },
  {
   "cell_type": "code",
   "execution_count": 30,
   "metadata": {},
   "outputs": [
    {
     "output_type": "execute_result",
     "data": {
      "text/plain": "40"
     },
     "metadata": {},
     "execution_count": 30
    }
   ],
   "source": [
    "prices=soup.select('.pro-main-cont>p>span')\n",
    "len(prices)"
   ]
  },
  {
   "cell_type": "code",
   "execution_count": 34,
   "metadata": {},
   "outputs": [],
   "source": [
    "prices_list=[]\n",
    "for i, price in enumerate(prices):\n",
    "    if i % 2!=0:\n",
    "       prices_list.append(price.get('content'))"
   ]
  },
  {
   "cell_type": "code",
   "execution_count": 36,
   "metadata": {},
   "outputs": [
    {
     "output_type": "execute_result",
     "data": {
      "text/plain": "20"
     },
     "metadata": {},
     "execution_count": 36
    }
   ],
   "source": [
    "len(prices_list)"
   ]
  },
  {
   "cell_type": "code",
   "execution_count": 37,
   "metadata": {},
   "outputs": [
    {
     "output_type": "execute_result",
     "data": {
      "text/plain": "'4500000.0'"
     },
     "metadata": {},
     "execution_count": 37
    }
   ],
   "source": [
    "prices_list[1]"
   ]
  },
  {
   "cell_type": "code",
   "execution_count": 45,
   "metadata": {},
   "outputs": [
    {
     "output_type": "execute_result",
     "data": {
      "text/plain": "20"
     },
     "metadata": {},
     "execution_count": 45
    }
   ],
   "source": [
    "locations=soup.select('.pro-location')\n",
    "len(locations)"
   ]
  },
  {
   "cell_type": "code",
   "execution_count": 46,
   "metadata": {},
   "outputs": [
    {
     "output_type": "execute_result",
     "data": {
      "text/plain": "' ogere ifo ifo ogun'"
     },
     "metadata": {},
     "execution_count": 46
    }
   ],
   "source": [
    "location_list=[]\n",
    "for location in locations:\n",
    "    location_list.append(location.get_text())\n",
    "location_list[0]"
   ]
  },
  {
   "cell_type": "code",
   "execution_count": 89,
   "metadata": {},
   "outputs": [
    {
     "output_type": "execute_result",
     "data": {
      "text/plain": "24"
     },
     "metadata": {},
     "execution_count": 89
    }
   ],
   "source": [
    "bed_no=soup.select('.prop-features>span')\n",
    "len(bed_no)"
   ]
  },
  {
   "cell_type": "code",
   "execution_count": 90,
   "metadata": {},
   "outputs": [],
   "source": [
    "bed_no_list=[]\n",
    "for i, bed in enumerate(bed_no):\n",
    "    if i % 2!=0:\n",
    "       bed_no_list.append(bed.get('content'))"
   ]
  },
  {
   "cell_type": "code",
   "execution_count": 91,
   "metadata": {},
   "outputs": [
    {
     "output_type": "execute_result",
     "data": {
      "text/plain": "12"
     },
     "metadata": {},
     "execution_count": 91
    }
   ],
   "source": [
    "len(bed_no_list)"
   ]
  },
  {
   "cell_type": "code",
   "execution_count": null,
   "metadata": {},
   "outputs": [],
   "source": []
  }
 ],
 "metadata": {
  "language_info": {
   "codemirror_mode": {
    "name": "ipython",
    "version": 3
   },
   "file_extension": ".py",
   "mimetype": "text/x-python",
   "name": "python",
   "nbconvert_exporter": "python",
   "pygments_lexer": "ipython3",
   "version": 3
  },
  "orig_nbformat": 2,
  "kernelspec": {
   "name": "python_defaultSpec_1594290317992",
   "display_name": "Python 3.8.3 32-bit"
  }
 },
 "nbformat": 4,
 "nbformat_minor": 2
}