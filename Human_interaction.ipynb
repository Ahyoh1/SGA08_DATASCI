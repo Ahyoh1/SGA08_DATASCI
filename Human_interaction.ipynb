{
 "cells": [
  {
   "cell_type": "code",
   "execution_count": 3,
   "metadata": {},
   "outputs": [],
   "source": [
    "import pandas as pd"
   ]
  },
  {
   "cell_type": "code",
   "execution_count": 6,
   "metadata": {},
   "outputs": [],
   "source": [
    "Human_interaction= pd.DataFrame({'Full name':['April Dexter', 'Olabisi Doyin','Olatunbosun Pedro','Oyin Daniels','Sam Anthony'],\n",
    "'Phonebook_contacts':[1560,875,9350,1280,1300],\n",
    "'Twitter_followers':[1054,668,782,1500,1800],\n",
    "'Whatsapp_contacts':[862,1026,1338,744,859],\n",
    "'Instagram_followers':[1265,850,1550,2000,1164]})"
   ]
  },
  {
   "cell_type": "code",
   "execution_count": 8,
   "metadata": {},
   "outputs": [
    {
     "data": {
      "text/html": [
       "<div>\n",
       "<style scoped>\n",
       "    .dataframe tbody tr th:only-of-type {\n",
       "        vertical-align: middle;\n",
       "    }\n",
       "\n",
       "    .dataframe tbody tr th {\n",
       "        vertical-align: top;\n",
       "    }\n",
       "\n",
       "    .dataframe thead th {\n",
       "        text-align: right;\n",
       "    }\n",
       "</style>\n",
       "<table border=\"1\" class=\"dataframe\">\n",
       "  <thead>\n",
       "    <tr style=\"text-align: right;\">\n",
       "      <th></th>\n",
       "      <th>Full name</th>\n",
       "      <th>Phonebook_contacts</th>\n",
       "      <th>Twitter_followers</th>\n",
       "      <th>Whatsapp_contacts</th>\n",
       "      <th>Instagram_followers</th>\n",
       "    </tr>\n",
       "  </thead>\n",
       "  <tbody>\n",
       "    <tr>\n",
       "      <td>0</td>\n",
       "      <td>April Dexter</td>\n",
       "      <td>1560</td>\n",
       "      <td>1054</td>\n",
       "      <td>862</td>\n",
       "      <td>1265</td>\n",
       "    </tr>\n",
       "    <tr>\n",
       "      <td>1</td>\n",
       "      <td>Olabisi Doyin</td>\n",
       "      <td>875</td>\n",
       "      <td>668</td>\n",
       "      <td>1026</td>\n",
       "      <td>850</td>\n",
       "    </tr>\n",
       "    <tr>\n",
       "      <td>2</td>\n",
       "      <td>Olatunbosun Pedro</td>\n",
       "      <td>9350</td>\n",
       "      <td>782</td>\n",
       "      <td>1338</td>\n",
       "      <td>1550</td>\n",
       "    </tr>\n",
       "    <tr>\n",
       "      <td>3</td>\n",
       "      <td>Oyin Daniels</td>\n",
       "      <td>1280</td>\n",
       "      <td>1500</td>\n",
       "      <td>744</td>\n",
       "      <td>2000</td>\n",
       "    </tr>\n",
       "    <tr>\n",
       "      <td>4</td>\n",
       "      <td>Sam Anthony</td>\n",
       "      <td>1300</td>\n",
       "      <td>1800</td>\n",
       "      <td>859</td>\n",
       "      <td>1164</td>\n",
       "    </tr>\n",
       "  </tbody>\n",
       "</table>\n",
       "</div>"
      ],
      "text/plain": [
       "           Full name  Phonebook_contacts  Twitter_followers  \\\n",
       "0       April Dexter                1560               1054   \n",
       "1      Olabisi Doyin                 875                668   \n",
       "2  Olatunbosun Pedro                9350                782   \n",
       "3       Oyin Daniels                1280               1500   \n",
       "4        Sam Anthony                1300               1800   \n",
       "\n",
       "   Whatsapp_contacts  Instagram_followers  \n",
       "0                862                 1265  \n",
       "1               1026                  850  \n",
       "2               1338                 1550  \n",
       "3                744                 2000  \n",
       "4                859                 1164  "
      ]
     },
     "execution_count": 8,
     "metadata": {},
     "output_type": "execute_result"
    }
   ],
   "source": [
    "df=pd.DataFrame(Human_interaction)\n",
    "df\n"
   ]
  },
  {
   "cell_type": "code",
   "execution_count": 9,
   "metadata": {
    "scrolled": false
   },
   "outputs": [],
   "source": [
    "df.to_csv('Human_interaction.csv', sep=',')"
   ]
  },
  {
   "cell_type": "code",
   "execution_count": null,
   "metadata": {},
   "outputs": [],
   "source": []
  }
 ],
 "metadata": {
  "kernelspec": {
   "display_name": "Python 3",
   "language": "python",
   "name": "python3"
  },
  "language_info": {
   "codemirror_mode": {
    "name": "ipython",
    "version": 3
   },
   "file_extension": ".py",
   "mimetype": "text/x-python",
   "name": "python",
   "nbconvert_exporter": "python",
   "pygments_lexer": "ipython3",
   "version": "3.7.4"
  }
 },
 "nbformat": 4,
 "nbformat_minor": 2
}
