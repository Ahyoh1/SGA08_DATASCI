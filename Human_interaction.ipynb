{
 "cells": [
  {
   "cell_type": "code",
   "execution_count": 14,
   "metadata": {},
   "outputs": [],
   "source": [
    "import pandas as pd"
   ]
  },
  {
   "cell_type": "code",
   "execution_count": 34,
   "metadata": {},
   "outputs": [],
   "source": [
    "Human_interaction= {'Full name':['April Dexter', 'Olabisi Doyin','Olatunbosun Pedro','Oyin Daniels','Sam Anthony'],\n",
    "'Phonebook_contacts':[1560,875,9350,1280,1300],\n",
    "'Twitter_followers':[1054,668,782,1500,1800],\n",
    "'Whatsapp_contacts':[862,1026,1338,744,859],\n",
    "'Instagram_followers':[1265,850,1550,2000,1164]}"
   ]
  },
  {
   "cell_type": "code",
   "execution_count": 35,
   "metadata": {},
   "outputs": [
    {
     "data": {
      "text/html": [
       "<div>\n",
       "<style scoped>\n",
       "    .dataframe tbody tr th:only-of-type {\n",
       "        vertical-align: middle;\n",
       "    }\n",
       "\n",
       "    .dataframe tbody tr th {\n",
       "        vertical-align: top;\n",
       "    }\n",
       "\n",
       "    .dataframe thead th {\n",
       "        text-align: right;\n",
       "    }\n",
       "</style>\n",
       "<table border=\"1\" class=\"dataframe\">\n",
       "  <thead>\n",
       "    <tr style=\"text-align: right;\">\n",
       "      <th></th>\n",
       "      <th>Full name</th>\n",
       "      <th>Phonebook_contacts</th>\n",
       "      <th>Twitter_followers</th>\n",
       "      <th>Whatsapp_contacts</th>\n",
       "      <th>Instagram_followers</th>\n",
       "    </tr>\n",
       "  </thead>\n",
       "  <tbody>\n",
       "    <tr>\n",
       "      <td>0</td>\n",
       "      <td>[April Dexter, Olabisi Doyin, Olatunbosun Pedr...</td>\n",
       "      <td>[1560, 875, 9350, 1280, 1300]</td>\n",
       "      <td>[1054, 668, 782, 1500, 1800]</td>\n",
       "      <td>[862, 1026, 1338, 744, 859]</td>\n",
       "      <td>[1265, 850, 1550, 2000, 1164]</td>\n",
       "    </tr>\n",
       "  </tbody>\n",
       "</table>\n",
       "</div>"
      ],
      "text/plain": [
       "                                           Full name  \\\n",
       "0  [April Dexter, Olabisi Doyin, Olatunbosun Pedr...   \n",
       "\n",
       "              Phonebook_contacts             Twitter_followers  \\\n",
       "0  [1560, 875, 9350, 1280, 1300]  [1054, 668, 782, 1500, 1800]   \n",
       "\n",
       "             Whatsapp_contacts            Instagram_followers  \n",
       "0  [862, 1026, 1338, 744, 859]  [1265, 850, 1550, 2000, 1164]  "
      ]
     },
     "execution_count": 35,
     "metadata": {},
     "output_type": "execute_result"
    }
   ],
   "source": [
    "df=pd.DataFrame([Human_interaction], index=[0])\n",
    "df\n"
   ]
  },
  {
   "cell_type": "code",
   "execution_count": 27,
   "metadata": {
    "scrolled": false
   },
   "outputs": [],
   "source": [
    "df.to_csv('Human_interaction.csv', sep=',')"
   ]
  },
  {
   "cell_type": "code",
   "execution_count": null,
   "metadata": {},
   "outputs": [],
   "source": []
  }
 ],
 "metadata": {
  "kernelspec": {
   "display_name": "Python 3",
   "language": "python",
   "name": "python3"
  },
  "language_info": {
   "codemirror_mode": {
    "name": "ipython",
    "version": 3
   },
   "file_extension": ".py",
   "mimetype": "text/x-python",
   "name": "python",
   "nbconvert_exporter": "python",
   "pygments_lexer": "ipython3",
   "version": "3.7.4"
  }
 },
 "nbformat": 4,
 "nbformat_minor": 2
}
