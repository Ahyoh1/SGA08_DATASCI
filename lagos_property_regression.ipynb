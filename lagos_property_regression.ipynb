{
 "metadata": {
  "language_info": {
   "codemirror_mode": {
    "name": "ipython",
    "version": 3
   },
   "file_extension": ".py",
   "mimetype": "text/x-python",
   "name": "python",
   "nbconvert_exporter": "python",
   "pygments_lexer": "ipython3",
   "version": 3
  },
  "orig_nbformat": 2,
  "kernelspec": {
   "name": "python_defaultSpec_1595676051861",
   "display_name": "Python 3.8.3 32-bit"
  }
 },
 "nbformat": 4,
 "nbformat_minor": 2,
 "cells": [
  {
   "cell_type": "markdown",
   "metadata": {},
   "source": [
    "# Model to predict house prices in Lagos"
   ]
  },
  {
   "cell_type": "code",
   "execution_count": 2,
   "metadata": {},
   "outputs": [],
   "source": [
    "import pandas as pd \n",
    "import numpy as np"
   ]
  },
  {
   "cell_type": "code",
   "execution_count": 70,
   "metadata": {},
   "outputs": [],
   "source": [
    "prop=pd.read_csv('Lagos_property.csv')"
   ]
  },
  {
   "cell_type": "code",
   "execution_count": 71,
   "metadata": {},
   "outputs": [
    {
     "output_type": "execute_result",
     "data": {
      "text/plain": "                                               title     price  \\\n0  1 BEDROOM MINI FLAT MINI FLAT FLAT / APARTMENT...    200000   \n1  OFFICE SPACE COMMERCIAL PROPERTY FOR RENT 1, S...  20000000   \n2  2 BEDROOM BLOCKS OF FLATS HOUSE FOR RENT OFF I...    300000   \n3  2 BEDROOM FLAT / APARTMENT FOR RENT OLD IKOYI ...   8000000   \n4  4 BEDROOM OFFICE SPACE COMMERCIAL PROPERTY FOR...   3800000   \n\n                                            location  bed  bath  toilet  \n0                 meiran abule_egba abule_egba lagos    1     1       1  \n1    1, sylvia crescent, anthony village, ilupeju...    0     0       1  \n2    off ikola road command alagbado abule_egba l...    2     2       3  \n3                              old ikoyi ikoyi lagos    2     2       3  \n4                           toyin street ikeja lagos    4     4       4  ",
      "text/html": "<div>\n<style scoped>\n    .dataframe tbody tr th:only-of-type {\n        vertical-align: middle;\n    }\n\n    .dataframe tbody tr th {\n        vertical-align: top;\n    }\n\n    .dataframe thead th {\n        text-align: right;\n    }\n</style>\n<table border=\"1\" class=\"dataframe\">\n  <thead>\n    <tr style=\"text-align: right;\">\n      <th></th>\n      <th>title</th>\n      <th>price</th>\n      <th>location</th>\n      <th>bed</th>\n      <th>bath</th>\n      <th>toilet</th>\n    </tr>\n  </thead>\n  <tbody>\n    <tr>\n      <th>0</th>\n      <td>1 BEDROOM MINI FLAT MINI FLAT FLAT / APARTMENT...</td>\n      <td>200000</td>\n      <td>meiran abule_egba abule_egba lagos</td>\n      <td>1</td>\n      <td>1</td>\n      <td>1</td>\n    </tr>\n    <tr>\n      <th>1</th>\n      <td>OFFICE SPACE COMMERCIAL PROPERTY FOR RENT 1, S...</td>\n      <td>20000000</td>\n      <td>1, sylvia crescent, anthony village, ilupeju...</td>\n      <td>0</td>\n      <td>0</td>\n      <td>1</td>\n    </tr>\n    <tr>\n      <th>2</th>\n      <td>2 BEDROOM BLOCKS OF FLATS HOUSE FOR RENT OFF I...</td>\n      <td>300000</td>\n      <td>off ikola road command alagbado abule_egba l...</td>\n      <td>2</td>\n      <td>2</td>\n      <td>3</td>\n    </tr>\n    <tr>\n      <th>3</th>\n      <td>2 BEDROOM FLAT / APARTMENT FOR RENT OLD IKOYI ...</td>\n      <td>8000000</td>\n      <td>old ikoyi ikoyi lagos</td>\n      <td>2</td>\n      <td>2</td>\n      <td>3</td>\n    </tr>\n    <tr>\n      <th>4</th>\n      <td>4 BEDROOM OFFICE SPACE COMMERCIAL PROPERTY FOR...</td>\n      <td>3800000</td>\n      <td>toyin street ikeja lagos</td>\n      <td>4</td>\n      <td>4</td>\n      <td>4</td>\n    </tr>\n  </tbody>\n</table>\n</div>"
     },
     "metadata": {},
     "execution_count": 71
    }
   ],
   "source": [
    "prop.head()"
   ]
  },
  {
   "cell_type": "code",
   "execution_count": 72,
   "metadata": {},
   "outputs": [
    {
     "output_type": "execute_result",
     "data": {
      "text/plain": "(13520, 6)"
     },
     "metadata": {},
     "execution_count": 72
    }
   ],
   "source": [
    "prop.shape"
   ]
  },
  {
   "cell_type": "code",
   "execution_count": 73,
   "metadata": {},
   "outputs": [
    {
     "output_type": "execute_result",
     "data": {
      "text/plain": "title       0\nprice       0\nlocation    0\nbed         0\nbath        0\ntoilet      0\ndtype: int64"
     },
     "metadata": {},
     "execution_count": 73
    }
   ],
   "source": [
    "prop.isna().sum()"
   ]
  },
  {
   "cell_type": "markdown",
   "metadata": {},
   "source": [
    "### Extract the last two words in the location column"
   ]
  },
  {
   "cell_type": "code",
   "execution_count": 76,
   "metadata": {},
   "outputs": [],
   "source": [
    "prop['location']=(prop['location'].str.split().str[-2])\n"
   ]
  },
  {
   "cell_type": "code",
   "execution_count": 77,
   "metadata": {},
   "outputs": [
    {
     "output_type": "execute_result",
     "data": {
      "text/plain": "                                               title     price    location  \\\n0  1 BEDROOM MINI FLAT MINI FLAT FLAT / APARTMENT...    200000  abule_egba   \n1  OFFICE SPACE COMMERCIAL PROPERTY FOR RENT 1, S...  20000000     ilupeju   \n2  2 BEDROOM BLOCKS OF FLATS HOUSE FOR RENT OFF I...    300000  abule_egba   \n3  2 BEDROOM FLAT / APARTMENT FOR RENT OLD IKOYI ...   8000000       ikoyi   \n4  4 BEDROOM OFFICE SPACE COMMERCIAL PROPERTY FOR...   3800000       ikeja   \n\n   bed  bath  toilet  \n0    1     1       1  \n1    0     0       1  \n2    2     2       3  \n3    2     2       3  \n4    4     4       4  ",
      "text/html": "<div>\n<style scoped>\n    .dataframe tbody tr th:only-of-type {\n        vertical-align: middle;\n    }\n\n    .dataframe tbody tr th {\n        vertical-align: top;\n    }\n\n    .dataframe thead th {\n        text-align: right;\n    }\n</style>\n<table border=\"1\" class=\"dataframe\">\n  <thead>\n    <tr style=\"text-align: right;\">\n      <th></th>\n      <th>title</th>\n      <th>price</th>\n      <th>location</th>\n      <th>bed</th>\n      <th>bath</th>\n      <th>toilet</th>\n    </tr>\n  </thead>\n  <tbody>\n    <tr>\n      <th>0</th>\n      <td>1 BEDROOM MINI FLAT MINI FLAT FLAT / APARTMENT...</td>\n      <td>200000</td>\n      <td>abule_egba</td>\n      <td>1</td>\n      <td>1</td>\n      <td>1</td>\n    </tr>\n    <tr>\n      <th>1</th>\n      <td>OFFICE SPACE COMMERCIAL PROPERTY FOR RENT 1, S...</td>\n      <td>20000000</td>\n      <td>ilupeju</td>\n      <td>0</td>\n      <td>0</td>\n      <td>1</td>\n    </tr>\n    <tr>\n      <th>2</th>\n      <td>2 BEDROOM BLOCKS OF FLATS HOUSE FOR RENT OFF I...</td>\n      <td>300000</td>\n      <td>abule_egba</td>\n      <td>2</td>\n      <td>2</td>\n      <td>3</td>\n    </tr>\n    <tr>\n      <th>3</th>\n      <td>2 BEDROOM FLAT / APARTMENT FOR RENT OLD IKOYI ...</td>\n      <td>8000000</td>\n      <td>ikoyi</td>\n      <td>2</td>\n      <td>2</td>\n      <td>3</td>\n    </tr>\n    <tr>\n      <th>4</th>\n      <td>4 BEDROOM OFFICE SPACE COMMERCIAL PROPERTY FOR...</td>\n      <td>3800000</td>\n      <td>ikeja</td>\n      <td>4</td>\n      <td>4</td>\n      <td>4</td>\n    </tr>\n  </tbody>\n</table>\n</div>"
     },
     "metadata": {},
     "execution_count": 77
    }
   ],
   "source": [
    "prop.head()"
   ]
  },
  {
   "cell_type": "markdown",
   "metadata": {},
   "source": [
    "### Select columns for prediction"
   ]
  },
  {
   "cell_type": "code",
   "execution_count": 80,
   "metadata": {},
   "outputs": [],
   "source": [
    "prop=prop.loc[:, ['price','location','bed','bath','toilet']]"
   ]
  },
  {
   "cell_type": "code",
   "execution_count": 81,
   "metadata": {},
   "outputs": [
    {
     "output_type": "execute_result",
     "data": {
      "text/plain": "      price    location  bed  bath  toilet\n0    200000  abule_egba    1     1       1\n1  20000000     ilupeju    0     0       1\n2    300000  abule_egba    2     2       3\n3   8000000       ikoyi    2     2       3\n4   3800000       ikeja    4     4       4",
      "text/html": "<div>\n<style scoped>\n    .dataframe tbody tr th:only-of-type {\n        vertical-align: middle;\n    }\n\n    .dataframe tbody tr th {\n        vertical-align: top;\n    }\n\n    .dataframe thead th {\n        text-align: right;\n    }\n</style>\n<table border=\"1\" class=\"dataframe\">\n  <thead>\n    <tr style=\"text-align: right;\">\n      <th></th>\n      <th>price</th>\n      <th>location</th>\n      <th>bed</th>\n      <th>bath</th>\n      <th>toilet</th>\n    </tr>\n  </thead>\n  <tbody>\n    <tr>\n      <th>0</th>\n      <td>200000</td>\n      <td>abule_egba</td>\n      <td>1</td>\n      <td>1</td>\n      <td>1</td>\n    </tr>\n    <tr>\n      <th>1</th>\n      <td>20000000</td>\n      <td>ilupeju</td>\n      <td>0</td>\n      <td>0</td>\n      <td>1</td>\n    </tr>\n    <tr>\n      <th>2</th>\n      <td>300000</td>\n      <td>abule_egba</td>\n      <td>2</td>\n      <td>2</td>\n      <td>3</td>\n    </tr>\n    <tr>\n      <th>3</th>\n      <td>8000000</td>\n      <td>ikoyi</td>\n      <td>2</td>\n      <td>2</td>\n      <td>3</td>\n    </tr>\n    <tr>\n      <th>4</th>\n      <td>3800000</td>\n      <td>ikeja</td>\n      <td>4</td>\n      <td>4</td>\n      <td>4</td>\n    </tr>\n  </tbody>\n</table>\n</div>"
     },
     "metadata": {},
     "execution_count": 81
    }
   ],
   "source": [
    "prop.head()"
   ]
  },
  {
   "cell_type": "markdown",
   "metadata": {},
   "source": [
    "### Define x and y. \n",
    "### x is every column we want to use to predict. note that only numerical variables can be used for prediction\n",
    "### y is the column we want to predict"
   ]
  },
  {
   "cell_type": "code",
   "execution_count": 166,
   "metadata": {},
   "outputs": [],
   "source": [
    "x=prop.loc[:,['bed','bath','toilet']]\n",
    "y=prop.price"
   ]
  },
  {
   "cell_type": "code",
   "execution_count": 91,
   "metadata": {},
   "outputs": [
    {
     "output_type": "execute_result",
     "data": {
      "text/plain": "(13520, 1)"
     },
     "metadata": {},
     "execution_count": 91
    }
   ],
   "source": [
    "x.shape\n"
   ]
  },
  {
   "cell_type": "code",
   "execution_count": 92,
   "metadata": {},
   "outputs": [
    {
     "output_type": "execute_result",
     "data": {
      "text/plain": "(13520,)"
     },
     "metadata": {},
     "execution_count": 92
    }
   ],
   "source": [
    "y.shape"
   ]
  },
  {
   "cell_type": "markdown",
   "metadata": {},
   "source": [
    "### Import the logistic regression model\n",
    "### create an instance of it \n",
    "### import cross validation score\n",
    "### pass the instance of the regression model into the cross validation score to get the mean accuracy of the score of the model"
   ]
  },
  {
   "cell_type": "code",
   "execution_count": 93,
   "metadata": {},
   "outputs": [],
   "source": [
    "from sklearn.linear_model import LogisticRegression"
   ]
  },
  {
   "cell_type": "code",
   "execution_count": 94,
   "metadata": {},
   "outputs": [],
   "source": [
    "logreg= LogisticRegression(solver='lbfgs')"
   ]
  },
  {
   "cell_type": "code",
   "execution_count": 95,
   "metadata": {},
   "outputs": [],
   "source": [
    "from sklearn.model_selection import cross_val_score"
   ]
  },
  {
   "cell_type": "code",
   "execution_count": 167,
   "metadata": {},
   "outputs": [
    {
     "output_type": "execute_result",
     "data": {
      "text/plain": "0.65"
     },
     "metadata": {},
     "execution_count": 167
    }
   ],
   "source": [
    "cross_val_score(logreg,x,y,scoring='accuracy',cv=5).mean()"
   ]
  },
  {
   "cell_type": "markdown",
   "metadata": {},
   "source": [
    "## To transform the location column to numeric variables using one hot encoder\n",
    "### Import onehotencoder\n",
    "### fit transform the location column\n",
    "### create X which is all the columns except the price column"
   ]
  },
  {
   "cell_type": "code",
   "execution_count": 99,
   "metadata": {},
   "outputs": [
    {
     "output_type": "execute_result",
     "data": {
      "text/plain": "      price    location  bed  bath  toilet\n0    200000  abule_egba    1     1       1\n1  20000000     ilupeju    0     0       1\n2    300000  abule_egba    2     2       3\n3   8000000       ikoyi    2     2       3\n4   3800000       ikeja    4     4       4",
      "text/html": "<div>\n<style scoped>\n    .dataframe tbody tr th:only-of-type {\n        vertical-align: middle;\n    }\n\n    .dataframe tbody tr th {\n        vertical-align: top;\n    }\n\n    .dataframe thead th {\n        text-align: right;\n    }\n</style>\n<table border=\"1\" class=\"dataframe\">\n  <thead>\n    <tr style=\"text-align: right;\">\n      <th></th>\n      <th>price</th>\n      <th>location</th>\n      <th>bed</th>\n      <th>bath</th>\n      <th>toilet</th>\n    </tr>\n  </thead>\n  <tbody>\n    <tr>\n      <th>0</th>\n      <td>200000</td>\n      <td>abule_egba</td>\n      <td>1</td>\n      <td>1</td>\n      <td>1</td>\n    </tr>\n    <tr>\n      <th>1</th>\n      <td>20000000</td>\n      <td>ilupeju</td>\n      <td>0</td>\n      <td>0</td>\n      <td>1</td>\n    </tr>\n    <tr>\n      <th>2</th>\n      <td>300000</td>\n      <td>abule_egba</td>\n      <td>2</td>\n      <td>2</td>\n      <td>3</td>\n    </tr>\n    <tr>\n      <th>3</th>\n      <td>8000000</td>\n      <td>ikoyi</td>\n      <td>2</td>\n      <td>2</td>\n      <td>3</td>\n    </tr>\n    <tr>\n      <th>4</th>\n      <td>3800000</td>\n      <td>ikeja</td>\n      <td>4</td>\n      <td>4</td>\n      <td>4</td>\n    </tr>\n  </tbody>\n</table>\n</div>"
     },
     "metadata": {},
     "execution_count": 99
    }
   ],
   "source": [
    "prop.head()"
   ]
  },
  {
   "cell_type": "code",
   "execution_count": 169,
   "metadata": {},
   "outputs": [],
   "source": [
    "from sklearn.preprocessing import OneHotEncoder\n",
    "ohe=OneHotEncoder(sparse=False)"
   ]
  },
  {
   "cell_type": "code",
   "execution_count": 170,
   "metadata": {},
   "outputs": [
    {
     "output_type": "execute_result",
     "data": {
      "text/plain": "array([[1., 0., 0., 0., 0., 0.],\n       [0., 0., 0., 1., 0., 0.],\n       [1., 0., 0., 0., 0., 0.],\n       ...,\n       [0., 0., 0., 0., 1., 0.],\n       [0., 0., 0., 0., 0., 1.],\n       [0., 0., 0., 0., 0., 1.]])"
     },
     "metadata": {},
     "execution_count": 170
    }
   ],
   "source": [
    "ohe.fit_transform(prop[['location']])"
   ]
  },
  {
   "cell_type": "code",
   "execution_count": 171,
   "metadata": {},
   "outputs": [
    {
     "output_type": "execute_result",
     "data": {
      "text/plain": "[array(['abule_egba', 'ikeja', 'ikoyi', 'ilupeju', 'island', 'lekki'],\n       dtype=object)]"
     },
     "metadata": {},
     "execution_count": 171
    }
   ],
   "source": [
    "ohe.categories_"
   ]
  },
  {
   "cell_type": "code",
   "execution_count": 149,
   "metadata": {},
   "outputs": [],
   "source": [
    "X= prop.drop('price', axis='columns')"
   ]
  },
  {
   "cell_type": "code",
   "execution_count": 150,
   "metadata": {},
   "outputs": [
    {
     "output_type": "execute_result",
     "data": {
      "text/plain": "     location  bed  bath  toilet\n0  abule_egba    1     1       1\n1     ilupeju    0     0       1\n2  abule_egba    2     2       3\n3       ikoyi    2     2       3\n4       ikeja    4     4       4",
      "text/html": "<div>\n<style scoped>\n    .dataframe tbody tr th:only-of-type {\n        vertical-align: middle;\n    }\n\n    .dataframe tbody tr th {\n        vertical-align: top;\n    }\n\n    .dataframe thead th {\n        text-align: right;\n    }\n</style>\n<table border=\"1\" class=\"dataframe\">\n  <thead>\n    <tr style=\"text-align: right;\">\n      <th></th>\n      <th>location</th>\n      <th>bed</th>\n      <th>bath</th>\n      <th>toilet</th>\n    </tr>\n  </thead>\n  <tbody>\n    <tr>\n      <th>0</th>\n      <td>abule_egba</td>\n      <td>1</td>\n      <td>1</td>\n      <td>1</td>\n    </tr>\n    <tr>\n      <th>1</th>\n      <td>ilupeju</td>\n      <td>0</td>\n      <td>0</td>\n      <td>1</td>\n    </tr>\n    <tr>\n      <th>2</th>\n      <td>abule_egba</td>\n      <td>2</td>\n      <td>2</td>\n      <td>3</td>\n    </tr>\n    <tr>\n      <th>3</th>\n      <td>ikoyi</td>\n      <td>2</td>\n      <td>2</td>\n      <td>3</td>\n    </tr>\n    <tr>\n      <th>4</th>\n      <td>ikeja</td>\n      <td>4</td>\n      <td>4</td>\n      <td>4</td>\n    </tr>\n  </tbody>\n</table>\n</div>"
     },
     "metadata": {},
     "execution_count": 150
    }
   ],
   "source": [
    "X.head()"
   ]
  },
  {
   "cell_type": "markdown",
   "metadata": {},
   "source": [
    "### import column transformer \n",
    "### pass onehotencoder and fittransform the column transformer"
   ]
  },
  {
   "cell_type": "code",
   "execution_count": 151,
   "metadata": {},
   "outputs": [],
   "source": [
    "from sklearn.compose import make_column_transformer"
   ]
  },
  {
   "cell_type": "code",
   "execution_count": 154,
   "metadata": {},
   "outputs": [],
   "source": [
    "column_trans = make_column_transformer(\n",
    "    (OneHotEncoder(), ['location']), remainder='passthrough')"
   ]
  },
  {
   "cell_type": "code",
   "execution_count": 153,
   "metadata": {},
   "outputs": [
    {
     "output_type": "execute_result",
     "data": {
      "text/plain": "array([[1., 0., 0., ..., 1., 1., 1.],\n       [0., 0., 0., ..., 0., 0., 1.],\n       [1., 0., 0., ..., 2., 2., 3.],\n       ...,\n       [0., 0., 0., ..., 3., 3., 4.],\n       [0., 0., 0., ..., 3., 3., 4.],\n       [0., 0., 0., ..., 4., 4., 5.]])"
     },
     "metadata": {},
     "execution_count": 153
    }
   ],
   "source": [
    "column_trans.fit_transform(X)"
   ]
  },
  {
   "cell_type": "markdown",
   "metadata": {},
   "source": [
    "### make pipeline and pass column transform and logistic regression into the pipeline\n",
    "### create a sample out of the training dataset, fit it into the pipeline and predict the outcome"
   ]
  },
  {
   "cell_type": "code",
   "execution_count": 155,
   "metadata": {},
   "outputs": [],
   "source": [
    "from sklearn.pipeline import make_pipeline"
   ]
  },
  {
   "cell_type": "code",
   "execution_count": 156,
   "metadata": {},
   "outputs": [],
   "source": [
    "pipe= make_pipeline(column_trans, logreg)"
   ]
  },
  {
   "cell_type": "code",
   "execution_count": 161,
   "metadata": {},
   "outputs": [
    {
     "output_type": "execute_result",
     "data": {
      "text/plain": "0.95"
     },
     "metadata": {},
     "execution_count": 161
    }
   ],
   "source": [
    "cross_val_score(pipe, X, y, cv=5, scoring='accuracy').mean()"
   ]
  },
  {
   "cell_type": "code",
   "execution_count": 163,
   "metadata": {},
   "outputs": [
    {
     "output_type": "execute_result",
     "data": {
      "text/plain": "      location  bed  bath  toilet\n13318    lekki    3     3       4\n9219     lekki    4     4       5\n5741   ilupeju    0     0       1\n8903     ikoyi    2     2       3\n2088     ikoyi    3     0       0",
      "text/html": "<div>\n<style scoped>\n    .dataframe tbody tr th:only-of-type {\n        vertical-align: middle;\n    }\n\n    .dataframe tbody tr th {\n        vertical-align: top;\n    }\n\n    .dataframe thead th {\n        text-align: right;\n    }\n</style>\n<table border=\"1\" class=\"dataframe\">\n  <thead>\n    <tr style=\"text-align: right;\">\n      <th></th>\n      <th>location</th>\n      <th>bed</th>\n      <th>bath</th>\n      <th>toilet</th>\n    </tr>\n  </thead>\n  <tbody>\n    <tr>\n      <th>13318</th>\n      <td>lekki</td>\n      <td>3</td>\n      <td>3</td>\n      <td>4</td>\n    </tr>\n    <tr>\n      <th>9219</th>\n      <td>lekki</td>\n      <td>4</td>\n      <td>4</td>\n      <td>5</td>\n    </tr>\n    <tr>\n      <th>5741</th>\n      <td>ilupeju</td>\n      <td>0</td>\n      <td>0</td>\n      <td>1</td>\n    </tr>\n    <tr>\n      <th>8903</th>\n      <td>ikoyi</td>\n      <td>2</td>\n      <td>2</td>\n      <td>3</td>\n    </tr>\n    <tr>\n      <th>2088</th>\n      <td>ikoyi</td>\n      <td>3</td>\n      <td>0</td>\n      <td>0</td>\n    </tr>\n  </tbody>\n</table>\n</div>"
     },
     "metadata": {},
     "execution_count": 163
    }
   ],
   "source": [
    "X_new=X.sample(5, random_state=99)\n",
    "X_new"
   ]
  },
  {
   "cell_type": "code",
   "execution_count": 164,
   "metadata": {},
   "outputs": [
    {
     "output_type": "execute_result",
     "data": {
      "text/plain": "Pipeline(steps=[('columntransformer',\n                 ColumnTransformer(remainder='passthrough',\n                                   transformers=[('onehotencoder',\n                                                  OneHotEncoder(),\n                                                  ['location'])])),\n                ('logisticregression', LogisticRegression())])"
     },
     "metadata": {},
     "execution_count": 164
    }
   ],
   "source": [
    "pipe.fit(X,y)"
   ]
  },
  {
   "cell_type": "code",
   "execution_count": 165,
   "metadata": {},
   "outputs": [
    {
     "output_type": "execute_result",
     "data": {
      "text/plain": "array([ 4000000,  4000000, 20000000,  8000000, 16000000], dtype=int64)"
     },
     "metadata": {},
     "execution_count": 165
    }
   ],
   "source": [
    "pipe.predict(X_new)"
   ]
  }
 ]
}