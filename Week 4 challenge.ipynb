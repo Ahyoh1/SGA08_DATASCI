{
 "cells": [
  {
   "cell_type": "markdown",
   "metadata": {},
   "source": [
    "## Web Scraping"
   ]
  },
  {
   "cell_type": "code",
   "execution_count": 3,
   "metadata": {},
   "outputs": [],
   "source": [
    "import requests\n",
    "from bs4 import BeautifulSoup\n",
    "import pandas as pd\n",
    "import numpy as np\n",
    "from sklearn.linear_model import LinearRegression"
   ]
  },
  {
   "cell_type": "code",
   "execution_count": 4,
   "metadata": {},
   "outputs": [],
   "source": [
    "base_url='https://www.propertypro.ng/property-for-rent/in/lagos?search=&auto=&type=&bedroom=&max_price='\n",
    "headers={'User Agent':'Mozilla/5.0 (Windows NT 10.0; Win64; x64) AppleWebKit/537.36 (KHTML, like Gecko) Chrome/83.0.4103.116 Safari/537.36'}"
   ]
  },
  {
   "cell_type": "code",
   "execution_count": 5,
   "metadata": {},
   "outputs": [],
   "source": [
    "r=requests.get(base_url, headers=headers)"
   ]
  },
  {
   "cell_type": "code",
   "execution_count": 6,
   "metadata": {},
   "outputs": [
    {
     "output_type": "execute_result",
     "data": {
      "text/plain": "200"
     },
     "metadata": {},
     "execution_count": 6
    }
   ],
   "source": [
    "r.status_code"
   ]
  },
  {
   "cell_type": "code",
   "execution_count": 7,
   "metadata": {},
   "outputs": [],
   "source": [
    "soup=BeautifulSoup(r.text,'html.parser')"
   ]
  },
  {
   "cell_type": "code",
   "execution_count": 8,
   "metadata": {
    "tags": [
     "outputPrepend"
    ]
   },
   "outputs": [
    {
     "output_type": "stream",
     "name": "stdout",
     "text": "\n              <a href=\"/property-for-rent/in/rivers/port-harcourt\">\n               House for rent in Port Harcourt\n              </a>\n             </li>\n             <li>\n              <a href=\"/property-for-rent/in/kaduna\">\n               Houses for rent in Kaduna\n              </a>\n             </li>\n            </ul>\n           </div>\n           <div class=\"col-lg-4 col-md-4 col-sm-4\">\n            <ul>\n             <li>\n              <a href=\"/property-for-short-let/in/lagos\">\n               Short let in Lagos\n              </a>\n             </li>\n             <li>\n              <a href=\"/property-for-short-let/in/lagos/ikeja\">\n               Short let in Ikeja\n              </a>\n             </li>\n             <li>\n              <a href=\"/property-for-short-let/in/lagos/lekki\">\n               Short let in Lekki\n              </a>\n             </li>\n             <li>\n              <a href=\"/property-for-rent/commercial-property/office-space/in/lagos\">\n               Office space for rent in Lagos\n              </a>\n             </li>\n             <li>\n              <a href=\"/property-for-rent/commercial-property/office-space/in/abuja\">\n               Office space for rent in Abuja\n              </a>\n             </li>\n            </ul>\n           </div>\n          </div>\n         </div>\n        </div>\n       </div>\n      </div>\n     </div>\n    </div>\n   </div>\n  </section>\n  <div class=\"container\">\n   <div class=\"row\">\n    <div class=\"col-12 text-center\">\n    </div>\n   </div>\n  </div>\n  <div class=\"modal\" id=\"request-prop-modal\" role=\"dialog\">\n   <div class=\"modal-dialog\" role=\"document\">\n    <div class=\"modal-content\">\n     <div class=\"modal-header\">\n      <button aria-label=\"Close\" class=\"close alert-close\" data-dismiss=\"modal\" type=\"button\">\n       <span aria-hidden=\"true\">\n        ×\n       </span>\n      </button>\n     </div>\n     <div class=\"modal-body\">\n      <div class=\"mockup-cont\">\n      </div>\n      <img alt=\"\" class=\"magnify\" src=\"/assets/app/images/62959a08f548a31a5e6d8577fffa38c7-notify-scope.svg\"/>\n      <h4 class=\"title\">\n       Can’t find what you are looking for?\n      </h4>\n      <a class=\"btn primary btn-block\" href=\"/post-request\">\n       Clck To Post Your Request\n      </a>\n     </div>\n    </div>\n   </div>\n  </div>\n  <div class=\"modal\" id=\"newsletter-modal\" role=\"dialog\">\n   <div class=\"modal-dialog\" role=\"document\">\n    <div class=\"modal-content\">\n     <div class=\"modal-header\">\n      <button aria-label=\"Close\" class=\"close alert-close\" data-dismiss=\"modal\" type=\"button\">\n       <span aria-hidden=\"true\">\n        ×\n       </span>\n      </button>\n     </div>\n     <div class=\"modal-body\">\n      <form action=\"/notify\" class=\"envelope-cont text-center\" method=\"POST\">\n       <img alt=\"\" src=\"/assets/app/images/68c3afb93f4e1d953ae1a1176e9265fd-subscribe_envelope.svg\"/>\n       <p>\n        Receive alerts when we have new properties available for:\n       </p>\n       <h4 class=\"title\">\n        Property for rent in lagos\n       </h4>\n       <input class=\"form-control\" name=\"name\" placeholder=\"Name\" required=\"required\" type=\"text\" value=\"\"/>\n       <input class=\"form-control\" name=\"email\" placeholder=\"Email Address\" required=\"required\" type=\"email\" value=\"\"/>\n       <input name=\"mode\" type=\"hidden\" value=\"rent\"/>\n       <input name=\"search\" type=\"hidden\" value=\"\"/>\n       <input name=\"state\" type=\"hidden\" value=\"1\"/>\n       <input name=\"axis\" type=\"hidden\" value=\"\"/>\n       <input name=\"area\" type=\"hidden\" value=\"\"/>\n       <input name=\"type\" type=\"hidden\" value=\"\"/>\n       <input name=\"beds\" type=\"hidden\" value=\"\"/>\n       <input name=\"min_price\" type=\"hidden\" value=\"\"/>\n       <input name=\"max_price\" type=\"hidden\" value=\"\"/>\n       <button class=\"btn secondry btn-block alert2-btn\" type=\"button\">\n        Notify me\n       </button>\n      </form>\n     </div>\n    </div>\n   </div>\n  </div>\n  <footer>\n   <div class=\"container\">\n    <div class=\"row\">\n     <div class=\"col-lg-6 col-md-12 col-sm-12\">\n      <ul class=\"lnks text-lg-left text-md-center text-sm-center\">\n       <li>\n        <a href=\"http://tpg.ng\">\n         ToLet Property Group\n        </a>\n       </li>\n       <li>\n        <a href=\"https://www.propertypro.ng/blog\">\n         Blog\n        </a>\n       </li>\n       <li>\n        <a href=\"/about\">\n         About Us\n        </a>\n       </li>\n       <li>\n        <a href=\"/contact\">\n         Contact Us\n        </a>\n       </li>\n       <li>\n        <a href=\"/terms\">\n         Terms and Conditions\n        </a>\n       </li>\n       <li>\n        <a href=\"/agents\">\n         Agents\n        </a>\n       </li>\n       <li>\n        <a href=\"/sitemap.html\">\n         SiteMap\n        </a>\n       </li>\n       <li>\n        <a href=\"/advertise-with-us\">\n         Advertise With Us\n        </a>\n       </li>\n       <li>\n        <a href=\"https://www.realtornigeria.com\">\n         RealtorNigeria\n        </a>\n       </li>\n      </ul>\n     </div>\n     <div class=\"col-lg-1 offset-lg-5 col-md-12 offset-md-0 col-sm-12 text-right footer-logo\">\n      <div class=\"loader\">\n       <div class=\"flipper\">\n        <div class=\"front\">\n         <a class=\"spining-logo\" href=\"/\">\n          <img alt=\"\" class=\"img-responsive\" src=\"/assets/app/images/2d59d3559159cdf645dab87db0a55c91-footer-logo.svg\"/>\n         </a>\n        </div>\n        <div class=\"back\">\n         <a class=\"spining-logo\" href=\"/\">\n          <img alt=\"\" class=\"img-responsive\" src=\"/assets/app/images/2d59d3559159cdf645dab87db0a55c91-footer-logo.svg\"/>\n         </a>\n        </div>\n       </div>\n      </div>\n     </div>\n     <div class=\"col-lg-12 col-md-12 col-sm-12 main\">\n      <span class=\"copy\">\n       © copyright 2019 PropertyPro.ng all rights reserved\n      </span>\n      <ul class=\"float-right socials\">\n       <li>\n        <a class=\"fa fa-facebook\" href=\"https://www.facebook.com/propertyprong/\">\n        </a>\n       </li>\n       <li>\n        <a class=\"fa fa-twitter\" href=\"https://twitter.com/propertyprong\">\n        </a>\n       </li>\n       <li>\n        <a class=\"fa fa-instagram\" href=\"https://www.instagram.com/propertyprong/\">\n        </a>\n       </li>\n      </ul>\n     </div>\n    </div>\n   </div>\n  </footer>\n  <script data-cfasync=\"false\" src=\"/cdn-cgi/scripts/5c5dd728/cloudflare-static/email-decode.min.js\">\n  </script>\n  <script src=\"/assets/app/js/7a05ce80a58913d9c495bb8365682599-plugins.js\">\n  </script>\n  <script src=\"/assets/app/js/6d1954a1e611761c11175c937fe1fdc5-listings.min.js\">\n  </script>\n  <script type=\"text/javascript\">\n   var searchState = 'lagos';\n        var searchAxis = '';\n        var searchArea = '';\n        var reqSearch = '';\n\n\n        $(document).ready(function () {\n\n            $('#to_refine_search').click(function () {\n                $('html, body').animate({scrollTop: $('#refine_search').offset().top}, 'slow');\n            });\n\n            if (searchState) {\n                var useEndpoint, guideSlug;\n                var baseEndpoint = 'https://www.propertypro.ng' + '/guide/wp-json/wp/v2/';\n                if (searchArea && searchAxis) {\n                    useEndpoint = baseEndpoint + 'areas';\n                    guideSlug = searchArea + '-' + searchAxis + '-' + searchState;\n                } else if (searchAxis) {\n                    useEndpoint = baseEndpoint + 'axes';\n                    guideSlug = searchAxis + '-' + searchState;\n                } else {\n                    if (reqSearch) {\n                        // split to know components\n                        var searchArray = reqSearch.split(',');\n                        var arrayLength = searchArray.length;\n                        if (3 == arrayLength) {\n                            // area\n                            useEndpoint = baseEndpoint + 'areas';\n                            guideSlug = slugify(searchArray[0]) + '-' + slugify(searchArray[1]) + '-' + searchState;\n                        } else if (2 == arrayLength) {\n                            // axis\n                            useEndpoint = baseEndpoint + 'axes';\n                            guideSlug = slugify(searchArray[0]) + '-' + searchState;\n                        } else {\n                            useEndpoint = baseEndpoint + 'states';\n                            guideSlug = searchState;\n                        }\n                    } else {\n                        useEndpoint = baseEndpoint + 'states';\n                        guideSlug = searchState;\n                    }\n                }\n\n                $.getJSON(useEndpoint + '?per_page=1&slug=' + encodeURIComponent(guideSlug) + '&_embed', function (data) {\n                    if(data.length) {\n                        data = data[0];\n                        var hood = {\n                            title: data.title.rendered,\n                            desc: data.content.rendered,\n                            link: data.link\n                        };\n                        var featuredMedia = data._embedded['wp:featuredmedia'];\n                        if (featuredMedia && featuredMedia.length) {\n                            if (\n                                featuredMedia[0].media_details &&\n                                featuredMedia[0].media_details.sizes &&\n                                featuredMedia[0].media_details.sizes['post-thumbnail'] &&\n                                featuredMedia[0].media_details.sizes['post-thumbnail'].source_url ) {\n                                hood.image = featuredMedia[0].media_details.sizes['post-thumbnail'].source_url;\n                            } else if (featuredMedia[0].source_url) {\n                                // use the full image\n                                hood.image = featuredMedia[0].source_url;\n                            }\n                        }\n                        var $properties = $('.property-bg');\n                        // we want to put after the 10th, else after the last\n                        if ($properties.length >= 10) {\n                            $properties.eq(9).parent().after( Handlebars.templates.neighborhood(hood) );\n                        } else if ($properties.length) {\n                            $properties.last().parent().after( Handlebars.templates.neighborhood(hood) );\n                        } else {\n                            $('.jumbotron.sorry').parent().after( Handlebars.templates.neighborhood(hood) );\n                        }\n                        if($('article.readmore').length){\n                            $('article.readmore').readmore({\n                                collapsedHeight:120\n                            });\n                        }\n//                        if ('undefined' != typeof hasResults) {\n//                            //\n//                        } else {\n//                            //\n//                        }\n                    }\n                });\n            }\n\n            function initReadmoreJS( start ) {\n                var readMores = $('p.readmore');\n                if(readMores.length > 0){\n                    readMores.slice( start ).readmore({\n                        collapsedHeight:30,\n                        moreLink: '<a href=\"#\">Read More+</a>'\n                    });\n                }\n            }\n\n            var sidebarReadmores = $('.results-sidebar-readmore');\n            if(sidebarReadmores.length > 0){\n                sidebarReadmores.readmore({\n                    collapsedHeight:175,\n                    moreLink: '<button class=\"btn btn-block btn-sidebar-readmore\" type=\"button\">Show More</button>',\n                    lessLink: '<button class=\"btn btn-block btn-sidebar-readmore\" type=\"button\">Show Less</button>'\n                });\n            }\n\n            $('a[href=\"#email-me\"]').on('click', function(event) {\n                var target = $('.alert2-form');\n                if( target.length ) {\n                    event.preventDefault();\n                    $('html, body').stop().animate({\n                        scrollTop: target.offset().top\n                    }, 1000);\n                }\n            });\n\n            $('#sort-by-dropdown').change(function () {\n                var val = $( this ).val();\n                if ( val ) {\n                    window.location.href = val\n                } else {\n                    if ( window.location.href.indexOf( 'sort=amount&order=desc' ) !== -1 ) {\n                        window.location.href = window.location.href.replace( 'sort=amount&order=desc', '' )\n                    } else if( window.location.href.indexOf( 'sort=amount&order=asc' ) !== -1 ){\n                        window.location.href = window.location.href.replace( 'sort=amount&order=asc', '' )\n                    } else if( window.location.href.indexOf( 'sort=postedOn&order=desc' ) !== -1 ){\n                        window.location.href = window.location.href.replace( 'sort=postedOn&order=desc', '' )\n                    } else if( window.location.href.indexOf( 'sort=beds&order=desc' ) !== -1 ){\n                        window.location.href = window.location.href.replace( 'sort=beds&order=desc', '' )\n                    }\n                }\n            });\n\n\n            \n\n\n            $(\".sticky-ad\").stick_in_parent();\n\n            $(\".alert-close\").click(function(e) {\n                $.get( \"/hideAlertPop\", function(data) {\n                });\n            });\n\n        });\n        function throttle(fn, wait) {\n            var time = Date.now();\n            return function() {\n                if ((time + wait - Date.now()) < 0) {\n                    fn();\n                    time = Date.now();\n                }\n            }\n        }\n\n\n        function slugify(text)\n        {\n            return text.toString().toLowerCase()\n                    .replace(/\\s+/g, '-')           // Replace spaces with -\n                    .replace(/[^\\w\\-]+/g, '')       // Remove all non-word chars\n                    .replace(/\\-\\-+/g, '-')         // Replace multiple - with single -\n                    .replace(/^-+/, '')             // Trim - from start of text\n                    .replace(/-+$/, '');            // Trim - from end of text\n        }\n\n        \n            jQuery(window).load(function() {\n                var show = true;\n                var height = 0.5 * $(document).height();\n                $(window).scroll(function(){\n                    if ($(this).scrollTop() >= height) {\n                        if(show) {\n                            jQuery('#newsletter-modal').modal({'show': true, 'backdrop': false});\n                            jQuery('#request-prop-modal').modal({'show': true, 'backdrop': false});\n                        }\n                    }\n\n                });\n                jQuery('#newsletter-modal').on('hidden.bs.modal', function (e) {\n                    show = false;\n                });\n                jQuery('#request-prop-modal').on('hidden.bs.modal', function (e) {\n                    show = false;\n                });\n            });\n  </script>\n  <script type=\"text/javascript\">\n   $(document).ready(function() {\n\n                $.get('/areas.json', function(data){\n                    $( \".searchInput\" ).autocomplete({\n                        //minLength:2,\n                        //delay:1000,\n                        source: data,\n                        //autoFocus: true,\n                        //focus: function (event, ui) {\n                        //$(this).val(ui.item.value);\n                        //}\n                        select: function (event, ui) {\n                            $(\"#auto\").val(ui.item.value);\n                        }\n                        //,focus: function( event, ui ) { event.preventDefault(); }\n                    });\n                    //$(\".searchInput\").typeahead({ source:data, items:4, autoSelect:false });\n                },'json');\n\n                $(\".alert2-btn\").click(function(){\n                    var valid = true;\n                    var form = $(this).parents(\"form\");\n                    form.find(\"input\").each(function(){\n                        if($(this).val().length === 0 && $(this).attr(\"required\") === \"required\") {\n                            $(this).addClass('error');\n                            valid = false;\n                        } else {\n                            $(this).removeClass('error');\n                        }\n                    });\n                    if(!valid) {\n                        alert(\"Please enter your name and email address\");\n                        return;\n                    }\n                    $(\"#ajaxWait\").show();\n                    $.ajax({\n                        type: 'POST',\n                        url: form.attr(\"action\"),\n                        data: form.serialize(),\n                        success: function(data) {\n                            if(data===\"success\") {\n                                alert(\"You have successfully subscribed\");\n                            } else if(data===\"already\") {\n                                alert(\"You have already subscribed to this search\");\n                            } else {\n                                alert(data);\n                            }\n                            $(\"#ajaxWait\").hide();\n                            $('#alert-panel').slideUp();\n                        }\n                    });\n                    return false;\n                });\n\n                $(\"#nav-expo img\").click(function(e) {\n                    window.open('https://www.propertypro.ng/silverspring/?utm_source=website&utm_medium=banner&utm_campaign=silverspring_banner', '_blank', 'toolbar=yes, location=yes, status=yes, menubar=yes, scrollbars=yes');\n                });\n\n                $(\"#nav-expo .expo-img span\").click(function(e) {\n                    $.get( \"/hideExpoStrip\", function(data) {\n                    });\n                    $(\"#nav-expo\").slideUp('slow');\n                });\n\n                \n            });\n\n            function init() {\n                var imgDefer = document.getElementsByTagName('img');\n                for (var i = 0; i < imgDefer.length; i++) {\n                    if (imgDefer[i].getAttribute('data-src')) {\n                        imgDefer[i].setAttribute('src',imgDefer[i].getAttribute('data-src'));\n                    }\n                }\n            }\n\n            window.onload = init;\n\n            function  areaSpecialistPhone(name, phone) {\n                Show(name + \"'s phone number\", \"<a style='font-size: 30px; color: gray' href='tel:\"+phone+\"'>\"+phone+\"</a>\");\n            }\n\n            /*\n            $(document).ready(function() {\n                $.get(\"https://api.ipify.org?format=json\",\n                    function (data) {\n                        var ip = data.ip;\n                        $.get( \"/client_ip_address\", {ip: ip})\n                            .done(function( data ) {\n                                //alert(data);\n                            });\n                    });\n            });\n            */\n  </script>\n  <script type=\"text/javascript\">\n   $(function() {\n\n            $(\"#home-banner\").attr(\"style\", \"background-image:url(https://toletstatic.s3-us-west-2.amazonaws.com/reservillle-5-bed-homepage-takeover.jpg);\");\n\n$(\"#banner-link\").click(function(e) {          \twindow.open('https://www.propertypro.ng/offers/?utm_source=website&utm_medium=slider&utm_campaign=reserville_banner', '_blank', 'toolbar=yes, location=yes, status=yes, menubar=yes, scrollbars=yes');\n});\n\n\n/*\n           $(\"#home-popup img\").attr(\"src\",\"https://toletstatic.s3-us-west-2.amazonaws.com/mouka_600x600.gif\");      \n\n            if($('#home-popup').length > 0) {\n                $('#home-popup').modal('show');\n            }\n\n            $(\"#home-popup img\").click(function(e) {\n                window.open('https://www.mouka.com/product/flora/?utm_source=propertypro&utm_medium=banner&utm_campaign=flora', '_blank', 'toolbar=yes, location=yes, status=yes, menubar=yes, scrollbars=yes');\n            });\n*/\n\n        });\n  </script>\n </body>\n</html>\n"
    }
   ],
   "source": [
    "print(soup.prettify())"
   ]
  },
  {
   "cell_type": "code",
   "execution_count": 9,
   "metadata": {
    "tags": []
   },
   "outputs": [
    {
     "output_type": "stream",
     "name": "stdout",
     "text": "Property & Houses for rent  in Lagos   (27,332 listings) | PropertyPro.ng\n"
    }
   ],
   "source": [
    "print(soup.title.get_text())"
   ]
  },
  {
   "cell_type": "code",
   "execution_count": 10,
   "metadata": {},
   "outputs": [
    {
     "output_type": "execute_result",
     "data": {
      "text/plain": "20"
     },
     "metadata": {},
     "execution_count": 10
    }
   ],
   "source": [
    "titles=soup.select('.pro-main-cont>a>h2')\n",
    "len(titles)"
   ]
  },
  {
   "cell_type": "code",
   "execution_count": 11,
   "metadata": {},
   "outputs": [
    {
     "output_type": "execute_result",
     "data": {
      "text/plain": "'3 BEDROOM FLAT / APARTMENT FOR RENT BANANA ISLAND IKOYI LAGOS'"
     },
     "metadata": {},
     "execution_count": 11
    }
   ],
   "source": [
    "titles_list=[]\n",
    "for title in titles:\n",
    "    titles_list.append(title.get_text())\n",
    "titles_list[0]"
   ]
  },
  {
   "cell_type": "code",
   "execution_count": 12,
   "metadata": {},
   "outputs": [
    {
     "output_type": "execute_result",
     "data": {
      "text/plain": "20"
     },
     "metadata": {},
     "execution_count": 12
    }
   ],
   "source": [
    "locations=soup.select('.pro-location')\n",
    "len(locations)"
   ]
  },
  {
   "cell_type": "code",
   "execution_count": 13,
   "metadata": {
    "tags": []
   },
   "outputs": [
    {
     "output_type": "execute_result",
     "data": {
      "text/plain": "'  ikate lekki lagos'"
     },
     "metadata": {},
     "execution_count": 13
    }
   ],
   "source": [
    "locations_list=[]\n",
    "for location in locations[0:21]:\n",
    "    locations_list.append(location.get_text())\n",
    "len(locations_list)\n",
    "locations_list[1]"
   ]
  },
  {
   "cell_type": "code",
   "execution_count": 89,
   "metadata": {},
   "outputs": [
    {
     "output_type": "execute_result",
     "data": {
      "text/plain": "40"
     },
     "metadata": {},
     "execution_count": 89
    }
   ],
   "source": [
    "prices=soup.select('.prop-price>span')\n",
    "len(prices)"
   ]
  },
  {
   "cell_type": "code",
   "execution_count": 90,
   "metadata": {},
   "outputs": [
    {
     "output_type": "execute_result",
     "data": {
      "text/plain": "'20,000,000'"
     },
     "metadata": {},
     "execution_count": 90
    }
   ],
   "source": [
    "prices_list=[]\n",
    "for i, price in enumerate(prices):\n",
    "    if i % 2!= 0:\n",
    "        prices_list.append(price.get_text())\n",
    "prices_list[1]"
   ]
  },
  {
   "cell_type": "code",
   "execution_count": 91,
   "metadata": {},
   "outputs": [
    {
     "output_type": "execute_result",
     "data": {
      "text/plain": "66"
     },
     "metadata": {},
     "execution_count": 91
    }
   ],
   "source": [
    "aux=soup.select('.prop-features>span>span')\n",
    "len(aux)"
   ]
  },
  {
   "cell_type": "code",
   "execution_count": 92,
   "metadata": {
    "tags": []
   },
   "outputs": [
    {
     "output_type": "stream",
     "name": "stdout",
     "text": "['1 bed', '1 bath', '1 toilet', ' bed', ' bath', '10 toilet', '2 bed', '2 bath', '3 toilet', '2 bed', '2 bath', '3 toilet', '4 bed', '4 bath', '4 toilet', '5 bed', '5 bath', '6 toilet', '2 bed', '2 bath', '3 toilet', '3 bed', '4 bath', '4 toilet', '3 bed', '0 bath', '0 toilet', '3 bed', '3 bath', '4 toilet', '4 bed', '4 bath', '5 toilet', '4 bed', '4 bath', '5 toilet', '4 bed', '3 bath', '4 toilet', '4 bed', '3 bath', '4 toilet', '2 bed', '2 bath', '3 toilet', '5 bed', '6 bath', '7 toilet', '4 bed', '4 bath', '5 toilet', '3 bed', '3 bath', '4 toilet', '3 bed', '3 bath', '4 toilet', '4 bed', '4 bath', '5 toilet', '3 bed', '3 bath', '4 toilet', '3 bed', '3 bath', '4 toilet']\n"
    },
    {
     "output_type": "execute_result",
     "data": {
      "text/plain": "66"
     },
     "metadata": {},
     "execution_count": 92
    }
   ],
   "source": [
    "aux_list=[]\n",
    "for aux in aux:\n",
    "    aux_list.append(aux.get_text())\n",
    "\n",
    "print(aux_list)\n",
    "len(aux_list)"
   ]
  },
  {
   "cell_type": "code",
   "execution_count": 93,
   "metadata": {},
   "outputs": [
    {
     "output_type": "execute_result",
     "data": {
      "text/plain": "[0, 3, 6, 9, 12, 15, 18, 21, 24, 27, 30, 33, 36, 39, 42, 45, 48, 51, 54, 57]"
     },
     "metadata": {},
     "execution_count": 93
    }
   ],
   "source": [
    "lists=np.arange(0,20).tolist()\n",
    "a=[]\n",
    "i=0\n",
    "for num in lists:\n",
    "    a.append(i)\n",
    "    i+=3\n",
    "a"
   ]
  },
  {
   "cell_type": "code",
   "execution_count": 97,
   "metadata": {
    "tags": []
   },
   "outputs": [
    {
     "output_type": "execute_result",
     "data": {
      "text/plain": "20"
     },
     "metadata": {},
     "execution_count": 97
    }
   ],
   "source": [
    "bed=[aux_list[i] for i in (a)]\n",
    "len(bed)"
   ]
  },
  {
   "cell_type": "code",
   "execution_count": 96,
   "metadata": {},
   "outputs": [
    {
     "output_type": "execute_result",
     "data": {
      "text/plain": "[1, 4, 7, 10, 13, 16, 19, 22, 25, 28, 31, 34, 37, 40, 43, 46, 49, 52, 55, 58]"
     },
     "metadata": {},
     "execution_count": 96
    }
   ],
   "source": [
    "list=np.arange(0,20).tolist()\n",
    "b=[]\n",
    "i=1\n",
    "for num in list:\n",
    "    b.append(i)\n",
    "    i+=3\n",
    "b"
   ]
  },
  {
   "cell_type": "code",
   "execution_count": 98,
   "metadata": {},
   "outputs": [
    {
     "output_type": "execute_result",
     "data": {
      "text/plain": "20"
     },
     "metadata": {},
     "execution_count": 98
    }
   ],
   "source": [
    "bath=[aux_list[i] for i in (b)]\n",
    "len(bath)"
   ]
  },
  {
   "cell_type": "code",
   "execution_count": 99,
   "metadata": {},
   "outputs": [
    {
     "output_type": "execute_result",
     "data": {
      "text/plain": "[2, 5, 8, 11, 14, 17, 20, 23, 26, 29, 32, 35, 38, 41, 44, 47, 50, 53, 56, 59]"
     },
     "metadata": {},
     "execution_count": 99
    }
   ],
   "source": [
    "list=np.arange(0,20).tolist()\n",
    "c=[]\n",
    "i=2\n",
    "for num in list:\n",
    "    c.append(i)\n",
    "    i+=3\n",
    "c"
   ]
  },
  {
   "cell_type": "code",
   "execution_count": 100,
   "metadata": {},
   "outputs": [
    {
     "output_type": "execute_result",
     "data": {
      "text/plain": "20"
     },
     "metadata": {},
     "execution_count": 100
    }
   ],
   "source": [
    "toilet=[aux_list[i] for i in (c)]\n",
    "len(toilet)"
   ]
  },
  {
   "cell_type": "code",
   "execution_count": 107,
   "metadata": {},
   "outputs": [],
   "source": [
    "def scrape_page(url):\n",
    "      return titles_list, prices_list,locations_list, beds,bath,toilet"
   ]
  },
  {
   "cell_type": "code",
   "execution_count": 105,
   "metadata": {},
   "outputs": [
    {
     "output_type": "execute_result",
     "data": {
      "text/plain": "'https://www.propertypro.ng/property-for-rent/in/lagos?search=&auto=&type=&bedroom=&max_price=?page=675'"
     },
     "metadata": {},
     "execution_count": 105
    }
   ],
   "source": [
    "urls=[base_url]\n",
    "for i in range(1,676):\n",
    "    url= base_url+'?page=' + str(i)\n",
    "    urls.append(url)\n",
    "urls[675]"
   ]
  },
  {
   "cell_type": "code",
   "execution_count": 108,
   "metadata": {},
   "outputs": [
    {
     "output_type": "execute_result",
     "data": {
      "text/plain": "13520"
     },
     "metadata": {},
     "execution_count": 108
    }
   ],
   "source": [
    "master_titles,master_prices,master_locations,master_bed,master_bath,master_toilet=[],[],[],[],[],[]\n",
    "for url in urls:\n",
    "    titles_list, prices_list, locations_list , bed,bath,toilet= scrape_page(url)\n",
    "    master_titles += titles_list\n",
    "    master_prices += prices_list\n",
    "    master_locations += locations_list\n",
    "    master_bed += bed\n",
    "    master_bath += bath\n",
    "    master_toilet += toilet\n",
    "len(master_toilet)\n",
    "len(master_prices)\n",
    "len(master_locations)\n",
    "len(master_titles)\n",
    "len(master_bed)\n",
    "len(master_bath)"
   ]
  },
  {
   "cell_type": "code",
   "execution_count": 109,
   "metadata": {},
   "outputs": [],
   "source": [
    "property=pd.DataFrame({'title':master_titles, 'price':master_prices, 'location':master_locations,'bed':master_bed, 'bath':master_bath,'toilet':master_toilet})"
   ]
  },
  {
   "cell_type": "code",
   "execution_count": 110,
   "metadata": {},
   "outputs": [],
   "source": [
    "property.to_csv('Lagos_property.csv')"
   ]
  },
  {
   "cell_type": "code",
   "execution_count": 133,
   "metadata": {},
   "outputs": [],
   "source": [
    "prop=pd.read_csv('Lagos_property.csv')"
   ]
  },
  {
   "cell_type": "code",
   "execution_count": 134,
   "metadata": {},
   "outputs": [
    {
     "output_type": "execute_result",
     "data": {
      "text/plain": "                                               title     price  \\\n0  1 BEDROOM MINI FLAT MINI FLAT FLAT / APARTMENT...    200000   \n1  OFFICE SPACE COMMERCIAL PROPERTY FOR RENT 1, S...  20000000   \n2  2 BEDROOM BLOCKS OF FLATS HOUSE FOR RENT OFF I...    300000   \n3  2 BEDROOM FLAT / APARTMENT FOR RENT OLD IKOYI ...   8000000   \n4  4 BEDROOM OFFICE SPACE COMMERCIAL PROPERTY FOR...   3800000   \n\n                                            location  bed  bath  toilet  \n0                 meiran abule egba abule egba lagos    1     1       1  \n1    1, sylvia crescent, anthony village, ilupeju...    0     0       1  \n2    off ikola road command alagbado abule egba l...    2     2       3  \n3                              old ikoyi ikoyi lagos    2     2       3  \n4                           toyin street ikeja lagos    4     4       4  ",
      "text/html": "<div>\n<style scoped>\n    .dataframe tbody tr th:only-of-type {\n        vertical-align: middle;\n    }\n\n    .dataframe tbody tr th {\n        vertical-align: top;\n    }\n\n    .dataframe thead th {\n        text-align: right;\n    }\n</style>\n<table border=\"1\" class=\"dataframe\">\n  <thead>\n    <tr style=\"text-align: right;\">\n      <th></th>\n      <th>title</th>\n      <th>price</th>\n      <th>location</th>\n      <th>bed</th>\n      <th>bath</th>\n      <th>toilet</th>\n    </tr>\n  </thead>\n  <tbody>\n    <tr>\n      <th>0</th>\n      <td>1 BEDROOM MINI FLAT MINI FLAT FLAT / APARTMENT...</td>\n      <td>200000</td>\n      <td>meiran abule egba abule egba lagos</td>\n      <td>1</td>\n      <td>1</td>\n      <td>1</td>\n    </tr>\n    <tr>\n      <th>1</th>\n      <td>OFFICE SPACE COMMERCIAL PROPERTY FOR RENT 1, S...</td>\n      <td>20000000</td>\n      <td>1, sylvia crescent, anthony village, ilupeju...</td>\n      <td>0</td>\n      <td>0</td>\n      <td>1</td>\n    </tr>\n    <tr>\n      <th>2</th>\n      <td>2 BEDROOM BLOCKS OF FLATS HOUSE FOR RENT OFF I...</td>\n      <td>300000</td>\n      <td>off ikola road command alagbado abule egba l...</td>\n      <td>2</td>\n      <td>2</td>\n      <td>3</td>\n    </tr>\n    <tr>\n      <th>3</th>\n      <td>2 BEDROOM FLAT / APARTMENT FOR RENT OLD IKOYI ...</td>\n      <td>8000000</td>\n      <td>old ikoyi ikoyi lagos</td>\n      <td>2</td>\n      <td>2</td>\n      <td>3</td>\n    </tr>\n    <tr>\n      <th>4</th>\n      <td>4 BEDROOM OFFICE SPACE COMMERCIAL PROPERTY FOR...</td>\n      <td>3800000</td>\n      <td>toyin street ikeja lagos</td>\n      <td>4</td>\n      <td>4</td>\n      <td>4</td>\n    </tr>\n  </tbody>\n</table>\n</div>"
     },
     "metadata": {},
     "execution_count": 134
    }
   ],
   "source": [
    "prop.head()"
   ]
  },
  {
   "cell_type": "markdown",
   "metadata": {},
   "source": [
    "## LinearRegression analysis "
   ]
  },
  {
   "cell_type": "code",
   "execution_count": 135,
   "metadata": {},
   "outputs": [
    {
     "output_type": "execute_result",
     "data": {
      "text/plain": "              price           bed          bath       toilet\ncount  1.352000e+04  13520.000000  13520.000000  13520.00000\nmean   6.890000e+06      3.100000      2.950000      3.75000\nstd    4.939201e+06      1.260999      1.499222      1.63942\nmin    2.000000e+05      0.000000      0.000000      0.00000\n25%    4.000000e+06      2.000000      2.000000      3.00000\n50%    5.000000e+06      3.000000      3.000000      4.00000\n75%    9.250000e+06      4.000000      4.000000      5.00000\nmax    2.000000e+07      5.000000      6.000000      7.00000",
      "text/html": "<div>\n<style scoped>\n    .dataframe tbody tr th:only-of-type {\n        vertical-align: middle;\n    }\n\n    .dataframe tbody tr th {\n        vertical-align: top;\n    }\n\n    .dataframe thead th {\n        text-align: right;\n    }\n</style>\n<table border=\"1\" class=\"dataframe\">\n  <thead>\n    <tr style=\"text-align: right;\">\n      <th></th>\n      <th>price</th>\n      <th>bed</th>\n      <th>bath</th>\n      <th>toilet</th>\n    </tr>\n  </thead>\n  <tbody>\n    <tr>\n      <th>count</th>\n      <td>1.352000e+04</td>\n      <td>13520.000000</td>\n      <td>13520.000000</td>\n      <td>13520.00000</td>\n    </tr>\n    <tr>\n      <th>mean</th>\n      <td>6.890000e+06</td>\n      <td>3.100000</td>\n      <td>2.950000</td>\n      <td>3.75000</td>\n    </tr>\n    <tr>\n      <th>std</th>\n      <td>4.939201e+06</td>\n      <td>1.260999</td>\n      <td>1.499222</td>\n      <td>1.63942</td>\n    </tr>\n    <tr>\n      <th>min</th>\n      <td>2.000000e+05</td>\n      <td>0.000000</td>\n      <td>0.000000</td>\n      <td>0.00000</td>\n    </tr>\n    <tr>\n      <th>25%</th>\n      <td>4.000000e+06</td>\n      <td>2.000000</td>\n      <td>2.000000</td>\n      <td>3.00000</td>\n    </tr>\n    <tr>\n      <th>50%</th>\n      <td>5.000000e+06</td>\n      <td>3.000000</td>\n      <td>3.000000</td>\n      <td>4.00000</td>\n    </tr>\n    <tr>\n      <th>75%</th>\n      <td>9.250000e+06</td>\n      <td>4.000000</td>\n      <td>4.000000</td>\n      <td>5.00000</td>\n    </tr>\n    <tr>\n      <th>max</th>\n      <td>2.000000e+07</td>\n      <td>5.000000</td>\n      <td>6.000000</td>\n      <td>7.00000</td>\n    </tr>\n  </tbody>\n</table>\n</div>"
     },
     "metadata": {},
     "execution_count": 135
    }
   ],
   "source": [
    "prop.describe()"
   ]
  },
  {
   "cell_type": "code",
   "execution_count": 136,
   "metadata": {},
   "outputs": [],
   "source": [
    "prop.drop(['title','location'],inplace=True,axis=1)"
   ]
  },
  {
   "cell_type": "code",
   "execution_count": 137,
   "metadata": {},
   "outputs": [
    {
     "output_type": "execute_result",
     "data": {
      "text/plain": "           price       bed      bath    toilet\nprice   1.000000 -0.238284 -0.395102 -0.382557\nbed    -0.238284  1.000000  0.849037  0.810293\nbath   -0.395102  0.849037  1.000000  0.971447\ntoilet -0.382557  0.810293  0.971447  1.000000",
      "text/html": "<div>\n<style scoped>\n    .dataframe tbody tr th:only-of-type {\n        vertical-align: middle;\n    }\n\n    .dataframe tbody tr th {\n        vertical-align: top;\n    }\n\n    .dataframe thead th {\n        text-align: right;\n    }\n</style>\n<table border=\"1\" class=\"dataframe\">\n  <thead>\n    <tr style=\"text-align: right;\">\n      <th></th>\n      <th>price</th>\n      <th>bed</th>\n      <th>bath</th>\n      <th>toilet</th>\n    </tr>\n  </thead>\n  <tbody>\n    <tr>\n      <th>price</th>\n      <td>1.000000</td>\n      <td>-0.238284</td>\n      <td>-0.395102</td>\n      <td>-0.382557</td>\n    </tr>\n    <tr>\n      <th>bed</th>\n      <td>-0.238284</td>\n      <td>1.000000</td>\n      <td>0.849037</td>\n      <td>0.810293</td>\n    </tr>\n    <tr>\n      <th>bath</th>\n      <td>-0.395102</td>\n      <td>0.849037</td>\n      <td>1.000000</td>\n      <td>0.971447</td>\n    </tr>\n    <tr>\n      <th>toilet</th>\n      <td>-0.382557</td>\n      <td>0.810293</td>\n      <td>0.971447</td>\n      <td>1.000000</td>\n    </tr>\n  </tbody>\n</table>\n</div>"
     },
     "metadata": {},
     "execution_count": 137
    }
   ],
   "source": [
    "prop.corr()"
   ]
  },
  {
   "cell_type": "code",
   "execution_count": 138,
   "metadata": {},
   "outputs": [],
   "source": [
    "x=prop.drop('price', axis=1)\n",
    "y=prop['price']"
   ]
  },
  {
   "cell_type": "code",
   "execution_count": 139,
   "metadata": {},
   "outputs": [],
   "source": [
    "x=x.to_numpy()\n",
    "y=y.to_numpy()"
   ]
  },
  {
   "cell_type": "code",
   "execution_count": 140,
   "metadata": {},
   "outputs": [],
   "source": [
    "reg=LinearRegression()"
   ]
  },
  {
   "cell_type": "code",
   "execution_count": 141,
   "metadata": {},
   "outputs": [
    {
     "output_type": "execute_result",
     "data": {
      "text/plain": "LinearRegression()"
     },
     "metadata": {},
     "execution_count": 141
    }
   ],
   "source": [
    "reg.fit(x,y)"
   ]
  },
  {
   "cell_type": "code",
   "execution_count": 142,
   "metadata": {},
   "outputs": [
    {
     "output_type": "execute_result",
     "data": {
      "text/plain": "array([ 1386675.62235005, -2655694.55522435,   342433.14722302])"
     },
     "metadata": {},
     "execution_count": 142
    }
   ],
   "source": [
    "w=reg.coef_\n",
    "w"
   ]
  },
  {
   "cell_type": "code",
   "execution_count": 143,
   "metadata": {},
   "outputs": [
    {
     "output_type": "execute_result",
     "data": {
      "text/plain": "9141480.206540342"
     },
     "metadata": {},
     "execution_count": 143
    }
   ],
   "source": [
    "b=reg.intercept_\n",
    "b"
   ]
  },
  {
   "cell_type": "code",
   "execution_count": 144,
   "metadata": {},
   "outputs": [
    {
     "output_type": "execute_result",
     "data": {
      "text/plain": "array([8214894.42088907, 9483913.35376336, 7630741.78246081, ...,\n       6704155.99680953, 6704155.99680953, 5777570.21115826])"
     },
     "metadata": {},
     "execution_count": 144
    }
   ],
   "source": [
    "y_=reg.predict(x)\n",
    "y_"
   ]
  },
  {
   "cell_type": "code",
   "execution_count": 145,
   "metadata": {},
   "outputs": [
    {
     "output_type": "execute_result",
     "data": {
      "text/plain": "0.19065098750991538"
     },
     "metadata": {},
     "execution_count": 145
    }
   ],
   "source": [
    "reg.score(x,y)"
   ]
  },
  {
   "cell_type": "markdown",
   "metadata": {},
   "source": [
    "## To predict price"
   ]
  },
  {
   "cell_type": "code",
   "execution_count": 152,
   "metadata": {},
   "outputs": [
    {
     "output_type": "execute_result",
     "data": {
      "text/plain": "array([8214894.42088907])"
     },
     "metadata": {},
     "execution_count": 152
    }
   ],
   "source": [
    "reg.predict(x[0].reshape(-1,3))"
   ]
  },
  {
   "cell_type": "code",
   "execution_count": 153,
   "metadata": {},
   "outputs": [
    {
     "output_type": "execute_result",
     "data": {
      "text/plain": "300000"
     },
     "metadata": {},
     "execution_count": 153
    }
   ],
   "source": [
    "y[2]"
   ]
  },
  {
   "cell_type": "code",
   "execution_count": null,
   "metadata": {},
   "outputs": [],
   "source": []
  }
 ],
 "metadata": {
  "language_info": {
   "codemirror_mode": {
    "name": "ipython",
    "version": 3
   },
   "file_extension": ".py",
   "mimetype": "text/x-python",
   "name": "python",
   "nbconvert_exporter": "python",
   "pygments_lexer": "ipython3",
   "version": 3
  },
  "orig_nbformat": 2,
  "kernelspec": {
   "name": "python_defaultSpec_1595425303269",
   "display_name": "Python 3.8.3 32-bit"
  }
 },
 "nbformat": 4,
 "nbformat_minor": 2
}