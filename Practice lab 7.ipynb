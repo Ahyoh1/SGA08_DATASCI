{
 "cells": [
  {
   "cell_type": "code",
   "execution_count": 2,
   "metadata": {},
   "outputs": [],
   "source": [
    "import pandas as pd\n",
    "import numpy as np"
   ]
  },
  {
   "cell_type": "markdown",
   "metadata": {},
   "source": [
    "## 1. Use the merge function in pandas to join two dataframes together"
   ]
  },
  {
   "cell_type": "code",
   "execution_count": 30,
   "metadata": {},
   "outputs": [
    {
     "output_type": "execute_result",
     "data": {
      "text/plain": "  ticker   price  quantity\n0   MSFT   51.95        75\n1   AMZN   51.95       155\n2   GOOG  720.92       162\n3   AAPL   98.00       100",
      "text/html": "<div>\n<style scoped>\n    .dataframe tbody tr th:only-of-type {\n        vertical-align: middle;\n    }\n\n    .dataframe tbody tr th {\n        vertical-align: top;\n    }\n\n    .dataframe thead th {\n        text-align: right;\n    }\n</style>\n<table border=\"1\" class=\"dataframe\">\n  <thead>\n    <tr style=\"text-align: right;\">\n      <th></th>\n      <th>ticker</th>\n      <th>price</th>\n      <th>quantity</th>\n    </tr>\n  </thead>\n  <tbody>\n    <tr>\n      <th>0</th>\n      <td>MSFT</td>\n      <td>51.95</td>\n      <td>75</td>\n    </tr>\n    <tr>\n      <th>1</th>\n      <td>AMZN</td>\n      <td>51.95</td>\n      <td>155</td>\n    </tr>\n    <tr>\n      <th>2</th>\n      <td>GOOG</td>\n      <td>720.92</td>\n      <td>162</td>\n    </tr>\n    <tr>\n      <th>3</th>\n      <td>AAPL</td>\n      <td>98.00</td>\n      <td>100</td>\n    </tr>\n  </tbody>\n</table>\n</div>"
     },
     "metadata": {},
     "execution_count": 30
    }
   ],
   "source": [
    "trades = pd.DataFrame({'ticker': ['MSFT', 'AMZN','GOOG', 'AAPL'],\n",
    "    'price': [51.95, 51.95, 720.92, 98.00],\n",
    "    'quantity': [75, 155,162, 100]},\n",
    "    columns=['ticker', 'price', 'quantity'])\n",
    "trades"
   ]
  },
  {
   "cell_type": "code",
   "execution_count": 31,
   "metadata": {},
   "outputs": [
    {
     "output_type": "execute_result",
     "data": {
      "text/plain": "  ticker     bid     ask\n0   GOOG  720.50  720.93\n1   MSFT   51.95   51.96\n2   AAPL   51.97   51.98\n3   AMZN   51.99   52.00",
      "text/html": "<div>\n<style scoped>\n    .dataframe tbody tr th:only-of-type {\n        vertical-align: middle;\n    }\n\n    .dataframe tbody tr th {\n        vertical-align: top;\n    }\n\n    .dataframe thead th {\n        text-align: right;\n    }\n</style>\n<table border=\"1\" class=\"dataframe\">\n  <thead>\n    <tr style=\"text-align: right;\">\n      <th></th>\n      <th>ticker</th>\n      <th>bid</th>\n      <th>ask</th>\n    </tr>\n  </thead>\n  <tbody>\n    <tr>\n      <th>0</th>\n      <td>GOOG</td>\n      <td>720.50</td>\n      <td>720.93</td>\n    </tr>\n    <tr>\n      <th>1</th>\n      <td>MSFT</td>\n      <td>51.95</td>\n      <td>51.96</td>\n    </tr>\n    <tr>\n      <th>2</th>\n      <td>AAPL</td>\n      <td>51.97</td>\n      <td>51.98</td>\n    </tr>\n    <tr>\n      <th>3</th>\n      <td>AMZN</td>\n      <td>51.99</td>\n      <td>52.00</td>\n    </tr>\n  </tbody>\n</table>\n</div>"
     },
     "metadata": {},
     "execution_count": 31
    }
   ],
   "source": [
    "quotes = pd.DataFrame({'ticker': ['GOOG', 'MSFT', 'AAPL', 'AMZN'],\n",
    "    'bid': [720.50, 51.95, 51.97, 51.99],\n",
    "    'ask': [720.93, 51.96, 51.98, 52.00]},\n",
    "    columns=['ticker', 'bid', 'ask'])\n",
    "quotes"
   ]
  },
  {
   "cell_type": "code",
   "execution_count": 32,
   "metadata": {},
   "outputs": [
    {
     "output_type": "execute_result",
     "data": {
      "text/plain": "  ticker   price  quantity     bid     ask\n0   MSFT   51.95        75   51.95   51.96\n1   AMZN   51.95       155   51.99   52.00\n2   GOOG  720.92       162  720.50  720.93\n3   AAPL   98.00       100   51.97   51.98",
      "text/html": "<div>\n<style scoped>\n    .dataframe tbody tr th:only-of-type {\n        vertical-align: middle;\n    }\n\n    .dataframe tbody tr th {\n        vertical-align: top;\n    }\n\n    .dataframe thead th {\n        text-align: right;\n    }\n</style>\n<table border=\"1\" class=\"dataframe\">\n  <thead>\n    <tr style=\"text-align: right;\">\n      <th></th>\n      <th>ticker</th>\n      <th>price</th>\n      <th>quantity</th>\n      <th>bid</th>\n      <th>ask</th>\n    </tr>\n  </thead>\n  <tbody>\n    <tr>\n      <th>0</th>\n      <td>MSFT</td>\n      <td>51.95</td>\n      <td>75</td>\n      <td>51.95</td>\n      <td>51.96</td>\n    </tr>\n    <tr>\n      <th>1</th>\n      <td>AMZN</td>\n      <td>51.95</td>\n      <td>155</td>\n      <td>51.99</td>\n      <td>52.00</td>\n    </tr>\n    <tr>\n      <th>2</th>\n      <td>GOOG</td>\n      <td>720.92</td>\n      <td>162</td>\n      <td>720.50</td>\n      <td>720.93</td>\n    </tr>\n    <tr>\n      <th>3</th>\n      <td>AAPL</td>\n      <td>98.00</td>\n      <td>100</td>\n      <td>51.97</td>\n      <td>51.98</td>\n    </tr>\n  </tbody>\n</table>\n</div>"
     },
     "metadata": {},
     "execution_count": 32
    }
   ],
   "source": [
    "merge_col = trades.merge(quotes,how='outer',on='ticker')\n",
    "merge_col"
   ]
  },
  {
   "cell_type": "markdown",
   "metadata": {},
   "source": [
    "## 2. Use the dataframe.corr to explore correlation relationship in your dataset. "
   ]
  },
  {
   "cell_type": "code",
   "execution_count": 35,
   "metadata": {},
   "outputs": [
    {
     "output_type": "execute_result",
     "data": {
      "text/plain": "             price  quantity       bid       ask\nprice     1.000000  0.601659  0.997801  0.997801\nquantity  0.601659  1.000000  0.614116  0.614116\nbid       0.997801  0.614116  1.000000  1.000000\nask       0.997801  0.614116  1.000000  1.000000",
      "text/html": "<div>\n<style scoped>\n    .dataframe tbody tr th:only-of-type {\n        vertical-align: middle;\n    }\n\n    .dataframe tbody tr th {\n        vertical-align: top;\n    }\n\n    .dataframe thead th {\n        text-align: right;\n    }\n</style>\n<table border=\"1\" class=\"dataframe\">\n  <thead>\n    <tr style=\"text-align: right;\">\n      <th></th>\n      <th>price</th>\n      <th>quantity</th>\n      <th>bid</th>\n      <th>ask</th>\n    </tr>\n  </thead>\n  <tbody>\n    <tr>\n      <th>price</th>\n      <td>1.000000</td>\n      <td>0.601659</td>\n      <td>0.997801</td>\n      <td>0.997801</td>\n    </tr>\n    <tr>\n      <th>quantity</th>\n      <td>0.601659</td>\n      <td>1.000000</td>\n      <td>0.614116</td>\n      <td>0.614116</td>\n    </tr>\n    <tr>\n      <th>bid</th>\n      <td>0.997801</td>\n      <td>0.614116</td>\n      <td>1.000000</td>\n      <td>1.000000</td>\n    </tr>\n    <tr>\n      <th>ask</th>\n      <td>0.997801</td>\n      <td>0.614116</td>\n      <td>1.000000</td>\n      <td>1.000000</td>\n    </tr>\n  </tbody>\n</table>\n</div>"
     },
     "metadata": {},
     "execution_count": 35
    }
   ],
   "source": [
    "merge_col.corr()"
   ]
  },
  {
   "cell_type": "code",
   "execution_count": null,
   "metadata": {},
   "outputs": [],
   "source": []
  }
 ],
 "metadata": {
  "language_info": {
   "codemirror_mode": {
    "name": "ipython",
    "version": 3
   },
   "file_extension": ".py",
   "mimetype": "text/x-python",
   "name": "python",
   "nbconvert_exporter": "python",
   "pygments_lexer": "ipython3",
   "version": "3.8.3-final"
  },
  "orig_nbformat": 2,
  "kernelspec": {
   "name": "python38332bitea13aa9159cf4d978fcce632b8e75150",
   "display_name": "Python 3.8.3 32-bit"
  }
 },
 "nbformat": 4,
 "nbformat_minor": 2
}