{
 "cells": [
  {
   "cell_type": "code",
   "execution_count": 105,
   "metadata": {},
   "outputs": [],
   "source": [
    "import numpy as np\n",
    "import pandas as pd\n",
    "import datetime\n",
    "import random"
   ]
  },
  {
   "cell_type": "code",
   "execution_count": 106,
   "metadata": {},
   "outputs": [
    {
     "output_type": "execute_result",
     "data": {
      "text/plain": "   Year  Count\n0  2014      0\n1  2018      3\n2  2017      4\n3  2010      4\n4  2015      0\n5  2017      6\n6  2013      9\n7  2014      3\n8  2010      2\n9  2012      5",
      "text/html": "<div>\n<style scoped>\n    .dataframe tbody tr th:only-of-type {\n        vertical-align: middle;\n    }\n\n    .dataframe tbody tr th {\n        vertical-align: top;\n    }\n\n    .dataframe thead th {\n        text-align: right;\n    }\n</style>\n<table border=\"1\" class=\"dataframe\">\n  <thead>\n    <tr style=\"text-align: right;\">\n      <th></th>\n      <th>Year</th>\n      <th>Count</th>\n    </tr>\n  </thead>\n  <tbody>\n    <tr>\n      <th>0</th>\n      <td>2014</td>\n      <td>0</td>\n    </tr>\n    <tr>\n      <th>1</th>\n      <td>2018</td>\n      <td>3</td>\n    </tr>\n    <tr>\n      <th>2</th>\n      <td>2017</td>\n      <td>4</td>\n    </tr>\n    <tr>\n      <th>3</th>\n      <td>2010</td>\n      <td>4</td>\n    </tr>\n    <tr>\n      <th>4</th>\n      <td>2015</td>\n      <td>0</td>\n    </tr>\n    <tr>\n      <th>5</th>\n      <td>2017</td>\n      <td>6</td>\n    </tr>\n    <tr>\n      <th>6</th>\n      <td>2013</td>\n      <td>9</td>\n    </tr>\n    <tr>\n      <th>7</th>\n      <td>2014</td>\n      <td>3</td>\n    </tr>\n    <tr>\n      <th>8</th>\n      <td>2010</td>\n      <td>2</td>\n    </tr>\n    <tr>\n      <th>9</th>\n      <td>2012</td>\n      <td>5</td>\n    </tr>\n  </tbody>\n</table>\n</div>"
     },
     "metadata": {},
     "execution_count": 106
    }
   ],
   "source": [
    "df= pd.DataFrame({'Year':np.random.randint(2010,2020, size=10),'Count':np.random.randint(10,size=10)})\n",
    "df"
   ]
  },
  {
   "cell_type": "code",
   "execution_count": 115,
   "metadata": {
    "tags": []
   },
   "outputs": [
    {
     "output_type": "error",
     "ename": "SyntaxError",
     "evalue": "'return' outside function (<ipython-input-115-8ad975d40674>, line 5)",
     "traceback": [
      "\u001b[1;36m  File \u001b[1;32m\"<ipython-input-115-8ad975d40674>\"\u001b[1;36m, line \u001b[1;32m5\u001b[0m\n\u001b[1;33m    return 'average'\u001b[0m\n\u001b[1;37m    ^\u001b[0m\n\u001b[1;31mSyntaxError\u001b[0m\u001b[1;31m:\u001b[0m 'return' outside function\n"
     ]
    }
   ],
   "source": [
    "sum=0\n",
    "for num in Count:\n",
    "    sum= sum + num\n",
    "average = sum/ len(Count)\n",
    "return average\n",
    "print (average)"
   ]
  },
  {
   "cell_type": "code",
   "execution_count": null,
   "metadata": {},
   "outputs": [],
   "source": []
  }
 ],
 "metadata": {
  "language_info": {
   "codemirror_mode": {
    "name": "ipython",
    "version": 3
   },
   "file_extension": ".py",
   "mimetype": "text/x-python",
   "name": "python",
   "nbconvert_exporter": "python",
   "pygments_lexer": "ipython3",
   "version": "3.8.3-final"
  },
  "orig_nbformat": 2,
  "kernelspec": {
   "name": "python38332bitea13aa9159cf4d978fcce632b8e75150",
   "display_name": "Python 3.8.3 32-bit"
  }
 },
 "nbformat": 4,
 "nbformat_minor": 2
}